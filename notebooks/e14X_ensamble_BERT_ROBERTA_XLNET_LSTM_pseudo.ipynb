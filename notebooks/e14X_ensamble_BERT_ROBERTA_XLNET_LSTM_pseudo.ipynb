{
 "cells": [
  {
   "cell_type": "code",
   "execution_count": 1,
   "metadata": {},
   "outputs": [],
   "source": [
    "import os\n",
    "import sys\n",
    "import itertools\n",
    "import pickle\n",
    "from glob import glob\n",
    "from tqdm import tqdm_notebook as tqdm\n",
    "\n",
    "import numpy as np\n",
    "import pandas as pd\n",
    "from scipy.stats import spearmanr\n",
    "\n",
    "from matplotlib import pyplot as plt\n",
    "from matplotlib_venn import venn2, venn3\n",
    "import seaborn as sns\n",
    "\n",
    "import torch\n",
    "from torch import nn, optim\n",
    "from transformers import BertConfig, BertTokenizer, BertModel, BertForMaskedLM#, BertLayer, BertEmbeddings\n",
    "from transformers.modeling_bert import BertLayer, BertEmbeddings"
   ]
  },
  {
   "cell_type": "code",
   "execution_count": 2,
   "metadata": {},
   "outputs": [
    {
     "data": {
      "text/html": [
       "<style>.container { width:90% !important; }</style>"
      ],
      "text/plain": [
       "<IPython.core.display.HTML object>"
      ]
     },
     "metadata": {},
     "output_type": "display_data"
    }
   ],
   "source": [
    "pd.set_option('display.max_columns', 500)\n",
    "pd.set_option('display.max_rows', 500)\n",
    "\n",
    "# re-load functions\n",
    "%load_ext autoreload\n",
    "%autoreload 2\n",
    "\n",
    "from IPython.core.display import display, HTML\n",
    "display(HTML(\"<style>.container { width:90% !important; }</style>\"))\n",
    "%config InlineBackend.figure_formats = {'png', 'retina'}"
   ]
  },
  {
   "cell_type": "code",
   "execution_count": 3,
   "metadata": {},
   "outputs": [],
   "source": [
    "DEVICE = 'cpu'"
   ]
  },
  {
   "cell_type": "code",
   "execution_count": 4,
   "metadata": {},
   "outputs": [],
   "source": [
    "import sys\n",
    "import pickle\n",
    "from functools import partial\n",
    "from glob import glob\n",
    "\n",
    "import numpy as np\n",
    "import pandas as pd\n",
    "import scipy as sp\n",
    "import torch\n",
    "from scipy.stats import spearmanr\n",
    "from tqdm import tqdm\n",
    "\n",
    "class OptimizedRounder(object):\n",
    "    \"\"\"\n",
    "    An optimizer for rounding thresholds\n",
    "    to maximize Quadratic Weighted Kappa (QWK) score\n",
    "    # https://www.kaggle.com/naveenasaithambi/optimizedrounder-improved\n",
    "    \"\"\"\n",
    "\n",
    "    def __init__(self):\n",
    "        self.coef_ = 0\n",
    "\n",
    "    def _spearmanr_loss(self, coef, X, y, labels):\n",
    "        \"\"\"\n",
    "        Get loss according to\n",
    "        using current coefficients\n",
    "        :param coef: A list of coefficients that will be used for rounding\n",
    "        :param X: The raw predictions\n",
    "        :param y: The ground truth labels\n",
    "        \"\"\"\n",
    "        X_p = pd.cut(X, [-np.inf] + list(np.sort(coef)) +\n",
    "                     [np.inf], labels=labels)\n",
    "\n",
    "        # return -np.mean(spearmanr(y, X_p).correlation)\n",
    "        return -spearmanr(y, X_p).correlation\n",
    "\n",
    "    def fit(self, X, y, initial_coef):\n",
    "        \"\"\"\n",
    "        Optimize rounding thresholds\n",
    "        :param X: The raw predictions\n",
    "        :param y: The ground truth labels\n",
    "        \"\"\"\n",
    "        labels = self.labels\n",
    "        loss_partial = partial(self._spearmanr_loss, X=X, y=y, labels=labels)\n",
    "        self.coef_ = sp.optimize.minimize(\n",
    "            # loss_partial, initial_coef, method='Powell')\n",
    "            loss_partial, initial_coef, method='nelder-mead')\n",
    "\n",
    "    def predict(self, X, coef):\n",
    "        \"\"\"\n",
    "        Make predictions with specified thresholds\n",
    "        :param X: The raw predictions\n",
    "        :param coef: A list of coefficients that will be used for rounding\n",
    "        \"\"\"\n",
    "        labels = self.labels\n",
    "        return pd.cut(X, [-np.inf] + list(np.sort(coef)) +\n",
    "                      [np.inf], labels=labels)\n",
    "        # [np.inf], labels=[0, 1, 2, 3])\n",
    "\n",
    "    def coefficients(self):\n",
    "        \"\"\"\n",
    "        Return the optimized coefficients\n",
    "        \"\"\"\n",
    "        return self.coef_['x']\n",
    "\n",
    "    def set_labels(self, labels):\n",
    "        self.labels = labels"
   ]
  },
  {
   "cell_type": "code",
   "execution_count": 5,
   "metadata": {},
   "outputs": [],
   "source": [
    "# sys.path.append('../scripts/')\n",
    "# from get_optR3 import compute_spearmanr, get_opt_y_pred\n",
    "\n",
    "import os\n",
    "import pickle\n",
    "import sys\n",
    "from functools import partial\n",
    "from glob import glob\n",
    "\n",
    "import numpy as np\n",
    "import pandas as pd\n",
    "import scipy as sp\n",
    "import torch\n",
    "from scipy.stats import spearmanr\n",
    "from tqdm import tqdm\n",
    "\n",
    "\n",
    "class histogramBasedCoefInitializer:\n",
    "    def __init__(self):\n",
    "        self.bins = None\n",
    "\n",
    "    def fit(self, labels):\n",
    "        self.bins = pd.Series(\n",
    "            labels).value_counts().sort_index().cumsum().values\n",
    "        return self\n",
    "\n",
    "    def predict(self, preds):\n",
    "        preds = sorted(preds)\n",
    "        res_threshs = []\n",
    "        if self.bins is None:\n",
    "            raise Exception('plz fit at first.')\n",
    "        for _bin in self.bins[:-1]:\n",
    "            res_threshs.append((preds[_bin - 1] + preds[_bin]) / 2)\n",
    "        return res_threshs\n",
    "\n",
    "\n",
    "class OptimizedRounder(object):\n",
    "    \"\"\"\n",
    "    An optimizer for rounding thresholds\n",
    "    to maximize Quadratic Weighted Kappa (QWK) score\n",
    "    # https://www.kaggle.com/naveenasaithambi/optimizedrounder-improved\n",
    "    \"\"\"\n",
    "\n",
    "    def __init__(self):\n",
    "        self.coef_ = 0\n",
    "\n",
    "    def _spearmanr_loss(self, coef, X, y, labels):\n",
    "        \"\"\"\n",
    "        Get loss according to\n",
    "        using current coefficients\n",
    "        :param coef: A list of coefficients that will be used for rounding\n",
    "        :param X: The raw predictions\n",
    "        :param y: The ground truth labels\n",
    "        \"\"\"\n",
    "        X_p = pd.cut(X, [-np.inf] + list(np.sort(coef)) +\n",
    "                     [np.inf], labels=labels)\n",
    "\n",
    "        # return -np.mean(spearmanr(y, X_p).correlation)\n",
    "        return -spearmanr(y, X_p).correlation\n",
    "\n",
    "    def fit(self, X, y, initial_coef):\n",
    "        \"\"\"\n",
    "        Optimize rounding thresholds\n",
    "        :param X: The raw predictions\n",
    "        :param y: The ground truth labels\n",
    "        \"\"\"\n",
    "        labels = self.labels\n",
    "        loss_partial = partial(self._spearmanr_loss, X=X, y=y, labels=labels)\n",
    "        self.coef_ = sp.optimize.minimize(\n",
    "            loss_partial, initial_coef, method='nelder-mead')\n",
    "\n",
    "    def predict(self, X, coef):\n",
    "        \"\"\"\n",
    "        Make predictions with specified thresholds\n",
    "        :param X: The raw predictions\n",
    "        :param coef: A list of coefficients that will be used for rounding\n",
    "        \"\"\"\n",
    "        labels = self.labels\n",
    "        return pd.cut(X, [-np.inf] + list(np.sort(coef)) +\n",
    "                      [np.inf], labels=labels)\n",
    "        # [np.inf], labels=[0, 1, 2, 3])\n",
    "\n",
    "    def coefficients(self):\n",
    "        \"\"\"\n",
    "        Return the optimized coefficients\n",
    "        \"\"\"\n",
    "        return self.coef_['x']\n",
    "\n",
    "    def set_labels(self, labels):\n",
    "        self.labels = labels\n",
    "\n",
    "\n",
    "def compute_spearmanr(trues, preds):\n",
    "    rhos = []\n",
    "    for col_trues, col_pred in zip(trues.T, preds.T):\n",
    "        if len(np.unique(col_pred)) == 1:\n",
    "            if col_pred[0] == np.max(col_trues):\n",
    "                col_pred[np.argmin(\n",
    "                    col_pred)] = np.min(col_trues)\n",
    "            else:\n",
    "                col_pred[np.argmax(\n",
    "                    col_pred)] = np.max(col_trues)\n",
    "        rhos.append(\n",
    "            spearmanr(\n",
    "                col_trues,\n",
    "                col_pred\n",
    "                #                  + np.random.normal(\n",
    "                #                     0,\n",
    "                #                     1e-7,\n",
    "                #                     col_pred.shape[0])\n",
    "            ).correlation)\n",
    "    return rhos\n",
    "\n",
    "\n",
    "def get_best_ckpt(ckpts):\n",
    "    ckpt_dicts = []\n",
    "    for ckpt in ckpts:\n",
    "        ckpt_dict = {}\n",
    "        ckpt_dict['ckpt'] = ckpt\n",
    "        splitted_ckpt = ckpt.split('/')[-1].split('_')\n",
    "        ckpt_dict['val_metric'] = float(splitted_ckpt[5])\n",
    "        ckpt_dicts.append(ckpt_dict)\n",
    "    ckpt_df = pd.DataFrame(ckpt_dicts)\n",
    "    return ckpt_df.sort_values('val_metric', ascending=False).ckpt.iloc[0]\n",
    "\n",
    "\n",
    "def get_snapshot_info_df(base_dir):\n",
    "    res_dicts = []\n",
    "    for fold in tqdm(list(range(5))):\n",
    "        fold_ckpts = glob(f'{base_dir}/{fold}/*.pth')\n",
    "        for ckpt in fold_ckpts:\n",
    "            res_dict = {}\n",
    "            splitted_ckpt = ckpt.split('/')[-1].split('_')\n",
    "            res_dict['ckpt_filename'] = ckpt\n",
    "            res_dict['fold'] = int(splitted_ckpt[1])\n",
    "            res_dict['epoch'] = int(splitted_ckpt[3])\n",
    "            res_dict['val_loss'] = float(splitted_ckpt[4])\n",
    "            res_dict['val_metric'] = float(splitted_ckpt[5])\n",
    "            res_dicts.append(res_dict)\n",
    "    res_df = pd.DataFrame(res_dicts)\n",
    "    res_df['rank'] = res_df.groupby(['fold']).val_metric.rank()\n",
    "    return res_df\n",
    "\n",
    "\n",
    "def get_opt_y_pred(y_true, y_pred, num_labels):\n",
    "    optRs = []\n",
    "    opt_y_preds = []\n",
    "\n",
    "    # for i in tqdm(list(range(21))):\n",
    "    for i in range(num_labels):\n",
    "        optR = OptimizedRounder()\n",
    "        labels = np.sort(np.unique(y_true[:, i]))\n",
    "        optR.set_labels(labels)\n",
    "        initer = histogramBasedCoefInitializer().fit(y_true[:, i])\n",
    "        opt_thresh = initer.predict(y_pred[:, i])\n",
    "        optR.fit(y_pred[:, i], y_true[:, i], opt_thresh)\n",
    "        # opt_threshs.append(optR.coefficients())\n",
    "        # opt_threshs[i] = optR.coefficients()\n",
    "        optRs.append(optR)\n",
    "        opt_y_preds.append((optR.predict(y_pred[:, i], optR.coefficients())))\n",
    "\n",
    "    opt_y_preds = np.asarray(opt_y_preds).T\n",
    "    return optRs, opt_y_preds\n",
    "\n",
    "\n",
    "def opt(BASE_PATH, num_labels=30, snapshot_num=2):\n",
    "    snapshot_df = get_snapshot_info_df(BASE_PATH)\n",
    "\n",
    "    snapshot_dicts = {}\n",
    "    state_dict_dicts = {}\n",
    "    for fold in tqdm(list(range(5))):\n",
    "        snapshot_dict = {}\n",
    "        state_dict_dict = {}\n",
    "        for i, row in snapshot_df.query(f'fold == {fold}').sort_values(\n",
    "                'rank', ascending=False).reset_index(drop=True).iterrows():\n",
    "            if i >= snapshot_num:\n",
    "                continue\n",
    "            ckpt = torch.load(row['ckpt_filename'])\n",
    "            state_dict_dict[i] = ckpt['model_state_dict']\n",
    "            if i == 0:\n",
    "                qa_ids = ckpt['val_qa_ids']\n",
    "                qa_ids_argsort = np.argsort(qa_ids)\n",
    "                snapshot_dict['y_trues'] = [\n",
    "                    ckpt['val_y_trues'][qa_ids_argsort]]\n",
    "                snapshot_dict['y_preds'] = [\n",
    "                    ckpt['val_y_preds'][qa_ids_argsort]]\n",
    "            else:\n",
    "                qa_ids = ckpt['val_qa_ids']\n",
    "                qa_ids_argsort = np.argsort(qa_ids)\n",
    "                snapshot_dict['y_trues'].append(\n",
    "                    ckpt['val_y_trues'][qa_ids_argsort])\n",
    "                snapshot_dict['y_preds'].append(\n",
    "                    ckpt['val_y_preds'][qa_ids_argsort])\n",
    "        snapshot_dicts[fold] = snapshot_dict\n",
    "        state_dict_dicts[fold] = state_dict_dict\n",
    "\n",
    "    y_preds = np.concatenate(\n",
    "        [np.average(snapshot_dicts[fold]['y_preds'][:snapshot_num], axis=0)\n",
    "         for fold in range(5)])\n",
    "    y_trues = np.concatenate(\n",
    "        [snapshot_dicts[fold]['y_trues'][0]\n",
    "         for fold in range(5)])\n",
    "\n",
    "    reses = []\n",
    "    optRs = []\n",
    "\n",
    "    for i in tqdm(list(range(num_labels))):\n",
    "        y_pred = y_preds[:, i]\n",
    "        y_true = y_trues[:, i]\n",
    "\n",
    "        y_pred_argmax = np.argmax(y_pred)\n",
    "        y_pred_argmin = np.argmin(y_pred)\n",
    "\n",
    "        optR = OptimizedRounder()\n",
    "        labels = np.sort(np.unique(y_true))\n",
    "        optR.set_labels(labels)\n",
    "        initer = histogramBasedCoefInitializer().fit(y_true)\n",
    "        initial_coef = initer.predict(y_pred)\n",
    "        optR.fit(y_pred, y_true, initial_coef=initial_coef)\n",
    "        optRs.append(optR)\n",
    "        res = optR.predict(y_pred, optR.coefficients())\n",
    "\n",
    "        if len(np.unique(res)) == 1:\n",
    "            if np.unique(res) == res[y_pred_argmax]:\n",
    "                res[y_pred_argmin] = np.min(y_true)\n",
    "            else:\n",
    "                res[y_pred_argmax] = np.max(y_true)\n",
    "\n",
    "        reses.append(res)\n",
    "    reses = np.asarray(reses).T\n",
    "\n",
    "    with open(f'{BASE_PATH}/optRs.pkl', 'wb') as fout:\n",
    "        pickle.dump(optRs, fout)\n",
    "    with open(f'{BASE_PATH}/snapshot_dicts.pkl', 'wb') as fout:\n",
    "        pickle.dump(snapshot_dicts, fout)\n",
    "    if not os.path.exists(f'{BASE_PATH}/state_dicts'):\n",
    "        os.mkdir(f'{BASE_PATH}/state_dicts')\n",
    "    for fold in range(5):\n",
    "        for rank in range(snapshot_num):\n",
    "            with open(f'{BASE_PATH}/state_dicts/fold_{fold}_rank_{rank}_state_dict.pkl', 'wb') as fout:\n",
    "                pickle.dump(state_dict_dicts[fold][rank], fout)\n",
    "    # with open(f'{BASE_PATH}/state_dict_dicts.pkl', 'wb') as fout:\n",
    "    #     pickle.dump(state_dict_dicts, fout)\n",
    "\n",
    "    original_score = compute_spearmanr(y_trues, y_preds)\n",
    "    print(f'original_score: {original_score}')\n",
    "    print(f'original_score: {np.mean(original_score)}')\n",
    "\n",
    "    res_score = compute_spearmanr(y_trues, reses)\n",
    "    print(f'res_score: {res_score}')\n",
    "    print(f'res_score_mean: {np.mean(res_score)}')\n",
    "\n",
    "    return res_score"
   ]
  },
  {
   "cell_type": "code",
   "execution_count": 6,
   "metadata": {},
   "outputs": [],
   "source": [
    "class histogramBasedCoefInitializer:\n",
    "    def __init__(self):\n",
    "        self.bins = None\n",
    "\n",
    "    def fit(self, labels):\n",
    "        self.bins = pd.Series(labels).value_counts().sort_index().cumsum().values\n",
    "        return self\n",
    "\n",
    "    def predict(self, preds):\n",
    "        preds = sorted(preds)\n",
    "        res_threshs = []\n",
    "        if self.bins is None:\n",
    "            raise Exception('plz fit at first.')\n",
    "        for _bin in self.bins[:-1]:\n",
    "            res_threshs.append((preds[_bin - 1] + preds[_bin]) / 2)\n",
    "        return res_threshs"
   ]
  },
  {
   "cell_type": "code",
   "execution_count": null,
   "metadata": {},
   "outputs": [],
   "source": []
  },
  {
   "cell_type": "markdown",
   "metadata": {},
   "source": [
    "## snapshot 済みの model を load"
   ]
  },
  {
   "cell_type": "code",
   "execution_count": 41,
   "metadata": {},
   "outputs": [],
   "source": [
    "CKPT_DIR = '../mnt/checkpoints'\n",
    "\n",
    "with open(f'{CKPT_DIR}/e121/snapshot_dicts.pkl', 'rb') as fin:\n",
    "    bert_question_dict = pickle.load(fin)\n",
    "with open(f'{CKPT_DIR}/e125/snapshot_dicts.pkl', 'rb') as fin:\n",
    "    bert_answer_dict = pickle.load(fin)\n",
    "    \n",
    "with open(f'{CKPT_DIR}/e126/snapshot_dicts.pkl', 'rb') as fin:\n",
    "    roberta_question_dict = pickle.load(fin)\n",
    "with open(f'{CKPT_DIR}/e127/snapshot_dicts.pkl', 'rb') as fin:\n",
    "    roberta_answer_dict = pickle.load(fin)\n",
    "    \n",
    "with open(f'{CKPT_DIR}/e128/snapshot_dicts.pkl', 'rb') as fin:\n",
    "    xlnet_question_dict = pickle.load(fin)\n",
    "with open(f'{CKPT_DIR}/e129/snapshot_dicts.pkl', 'rb') as fin:\n",
    "    xlnet_answer_dict = pickle.load(fin)\n",
    "    \n",
    "with open(f'{CKPT_DIR}/e145/snapshot_dicts.pkl', 'rb') as fin:\n",
    "    lstm_question_dict = pickle.load(fin)\n",
    "with open(f'{CKPT_DIR}/e147/snapshot_dicts.pkl', 'rb') as fin:\n",
    "    lstm_answer_dict = pickle.load(fin)"
   ]
  },
  {
   "cell_type": "code",
   "execution_count": 42,
   "metadata": {},
   "outputs": [],
   "source": [
    "def _get_y_trues_and_y_preds_from_snapshot_dicts(snapshot_dicts, single):\n",
    "    y_trues, y_preds = [], []\n",
    "    for fold in range(5):\n",
    "        if single:\n",
    "            y_trues.append(snapshot_dicts[fold]['y_trues'][0])\n",
    "            y_preds.append(snapshot_dicts[fold]['y_preds'][0])\n",
    "        else:\n",
    "            y_trues.append(np.average(snapshot_dicts[fold]['y_trues'], axis=0))\n",
    "            y_preds.append(np.average(snapshot_dicts[fold]['y_preds'], axis=0))\n",
    "    y_trues = np.concatenate(y_trues)\n",
    "    y_preds = np.concatenate(y_preds)\n",
    "    return y_trues, y_preds\n",
    "\n",
    "def get_y_trues_and_y_preds_from_QA_snapshota_dicts(Q_snapshot_dicts, A_snapshot_dicts, single=False):\n",
    "    q_y_trues, q_y_preds = _get_y_trues_and_y_preds_from_snapshot_dicts(Q_snapshot_dicts, single)\n",
    "    a_y_trues, a_y_preds = _get_y_trues_and_y_preds_from_snapshot_dicts(A_snapshot_dicts, single)\n",
    "    y_trues = np.concatenate([q_y_trues, a_y_trues], axis=1)\n",
    "    y_preds = np.concatenate([q_y_preds, a_y_preds], axis=1)\n",
    "    return y_trues, y_preds"
   ]
  },
  {
   "cell_type": "code",
   "execution_count": 10,
   "metadata": {
    "scrolled": true
   },
   "outputs": [],
   "source": [
    "# %debug\n",
    "bert_y_trues, bert_y_preds = get_y_trues_and_y_preds_from_QA_snapshota_dicts(bert_question_dict, bert_answer_dict)\n",
    "roberta_y_trues, roberta_y_preds = get_y_trues_and_y_preds_from_QA_snapshota_dicts(roberta_question_dict, roberta_answer_dict)\n",
    "xlnet_y_trues, xlnet_y_preds = get_y_trues_and_y_preds_from_QA_snapshota_dicts(xlnet_question_dict, xlnet_answer_dict)\n",
    "lstm_y_trues, lstm_y_preds = get_y_trues_and_y_preds_from_QA_snapshota_dicts(lstm_question_dict, lstm_answer_dict)"
   ]
  },
  {
   "cell_type": "code",
   "execution_count": 11,
   "metadata": {
    "scrolled": true
   },
   "outputs": [],
   "source": [
    "# %debug\n",
    "single_bert_y_trues, single_bert_y_preds = get_y_trues_and_y_preds_from_QA_snapshota_dicts(bert_question_dict, bert_answer_dict, single=True)\n",
    "single_roberta_y_trues, single_roberta_y_preds = get_y_trues_and_y_preds_from_QA_snapshota_dicts(roberta_question_dict, roberta_answer_dict, single=True)\n",
    "single_xlnet_y_trues, single_xlnet_y_preds = get_y_trues_and_y_preds_from_QA_snapshota_dicts(xlnet_question_dict, xlnet_answer_dict, single=True)\n",
    "single_lstm_y_trues, single_lstm_y_preds = get_y_trues_and_y_preds_from_QA_snapshota_dicts(lstm_question_dict, lstm_answer_dict, single=True)"
   ]
  },
  {
   "cell_type": "code",
   "execution_count": 12,
   "metadata": {},
   "outputs": [
    {
     "data": {
      "text/plain": [
       "(True, True)"
      ]
     },
     "execution_count": 12,
     "metadata": {},
     "output_type": "execute_result"
    }
   ],
   "source": [
    "# 良さそう\n",
    "(bert_y_trues == roberta_y_trues).all(), (bert_y_trues == xlnet_y_trues).all()"
   ]
  },
  {
   "cell_type": "code",
   "execution_count": 13,
   "metadata": {},
   "outputs": [
    {
     "data": {
      "text/plain": [
       "(False, False)"
      ]
     },
     "execution_count": 13,
     "metadata": {},
     "output_type": "execute_result"
    }
   ],
   "source": [
    "(bert_y_preds == roberta_y_preds).all(), (bert_y_preds == xlnet_y_preds).all()"
   ]
  },
  {
   "cell_type": "code",
   "execution_count": null,
   "metadata": {},
   "outputs": [],
   "source": []
  },
  {
   "cell_type": "markdown",
   "metadata": {},
   "source": [
    "## 混ぜてみる\n",
    " - 4 つ全て混ぜてみる\n",
    " - 3/4 の　snapshot 混ぜてみる？"
   ]
  },
  {
   "cell_type": "code",
   "execution_count": 14,
   "metadata": {},
   "outputs": [],
   "source": [
    "def blend_and_evaluate(y_trues, y_preds_list, eval_func, weights=None):\n",
    "    if weights:\n",
    "        y_preds = np.average(y_preds_list, axis=0, weights=weights)\n",
    "    else:\n",
    "        y_preds = np.average(y_preds_list, axis=0)\n",
    "    eval_scores = eval_func(y_trues, y_preds)\n",
    "    optRs, opt_y_preds = get_opt_y_pred(y_trues, y_preds, num_labels=30)\n",
    "    opt_eval_scores = eval_func(y_trues, opt_y_preds)\n",
    "    print(f'original_score: {np.mean(eval_scores)}')\n",
    "    print(f'opt_score: {np.mean(opt_eval_scores)}')\n",
    "    return eval_scores, opt_eval_scores, optRs"
   ]
  },
  {
   "cell_type": "markdown",
   "metadata": {},
   "source": [
    "#### 試しに single, top-2 snapshots を見てみる"
   ]
  },
  {
   "cell_type": "code",
   "execution_count": 15,
   "metadata": {},
   "outputs": [
    {
     "name": "stdout",
     "output_type": "stream",
     "text": [
      "original_score: 0.41006427247645066\n",
      "opt_score: 0.43661262426104713\n",
      "original_score: 0.40685081230797066\n",
      "opt_score: 0.4324844364469768\n",
      "original_score: 0.40631606638648937\n",
      "opt_score: 0.4325393031770092\n",
      "original_score: 0.3079114851985878\n",
      "opt_score: 0.3141410535627739\n",
      "fini!\n"
     ]
    }
   ],
   "source": [
    "blend_and_evaluate(single_bert_y_trues, [single_bert_y_preds,  ], compute_spearmanr)\n",
    "blend_and_evaluate(single_bert_y_trues, [single_roberta_y_preds, ], compute_spearmanr)\n",
    "blend_and_evaluate(single_bert_y_trues, [single_xlnet_y_preds], compute_spearmanr)\n",
    "blend_and_evaluate(single_bert_y_trues, [single_lstm_y_preds], compute_spearmanr)\n",
    "print('fini!')"
   ]
  },
  {
   "cell_type": "code",
   "execution_count": 16,
   "metadata": {
    "scrolled": false
   },
   "outputs": [
    {
     "name": "stdout",
     "output_type": "stream",
     "text": [
      "original_score: 0.41399265956965503\n",
      "opt_score: 0.4421711714787299\n",
      "original_score: 0.41044252802107223\n",
      "opt_score: 0.44857486569826094\n",
      "original_score: 0.4134497336519045\n",
      "opt_score: 0.44027891255029494\n",
      "original_score: 0.31635984791045985\n",
      "opt_score: 0.3178494225535172\n",
      "fini!\n"
     ]
    }
   ],
   "source": [
    "blend_and_evaluate(single_bert_y_trues, [bert_y_preds,  ], compute_spearmanr)\n",
    "blend_and_evaluate(single_bert_y_trues, [roberta_y_preds, ], compute_spearmanr)\n",
    "blend_and_evaluate(single_bert_y_trues, [xlnet_y_preds], compute_spearmanr)\n",
    "blend_and_evaluate(single_bert_y_trues, [lstm_y_preds], compute_spearmanr)\n",
    "print('fini!')"
   ]
  },
  {
   "cell_type": "markdown",
   "metadata": {},
   "source": [
    "#### all blends がどうなるかを見てみる"
   ]
  },
  {
   "cell_type": "code",
   "execution_count": 25,
   "metadata": {
    "scrolled": true
   },
   "outputs": [
    {
     "name": "stdout",
     "output_type": "stream",
     "text": [
      "original_score: 0.4265407213529961\n",
      "opt_score: 0.4609008774873298\n"
     ]
    },
    {
     "data": {
      "text/plain": [
       "([0.39639992611659136,\n",
       "  0.6398757854970027,\n",
       "  0.4181188312517148,\n",
       "  0.33368880331875894,\n",
       "  0.37175711445019577,\n",
       "  0.4442516458433466,\n",
       "  0.3716371636458366,\n",
       "  0.5075011507745479,\n",
       "  0.6183819704360135,\n",
       "  0.09588100921102036,\n",
       "  0.4947750329433272,\n",
       "  0.7604307055998343,\n",
       "  0.36678064912192815,\n",
       "  0.19575617511045507,\n",
       "  0.36270080301637186,\n",
       "  0.4682678520893574,\n",
       "  0.7913996270068138,\n",
       "  0.3747384424347622,\n",
       "  0.6936336411331152,\n",
       "  0.06970467524846109,\n",
       "  0.515429822228163,\n",
       "  0.2969288177040051,\n",
       "  0.4456907972895716,\n",
       "  0.1888728104187696,\n",
       "  0.20666605129106494,\n",
       "  0.3755903015413732,\n",
       "  0.7689759106622713,\n",
       "  0.2954770144149921,\n",
       "  0.6993416681604873,\n",
       "  0.22756744262972867],\n",
       " [0.3885614189148279,\n",
       "  0.6386206703059473,\n",
       "  0.4840246339863777,\n",
       "  0.31481972795939245,\n",
       "  0.37731805791904577,\n",
       "  0.49257151305258484,\n",
       "  0.37403725759263273,\n",
       "  0.5157266778343519,\n",
       "  0.627386477826103,\n",
       "  0.1214141114083528,\n",
       "  0.4772137915410743,\n",
       "  0.7747954745520901,\n",
       "  0.5504726215862098,\n",
       "  0.32667667572208925,\n",
       "  0.6309870660754583,\n",
       "  0.6287334408419412,\n",
       "  0.800453781162829,\n",
       "  0.3597104116523439,\n",
       "  0.6876442794120285,\n",
       "  0.26853057445792544,\n",
       "  0.5146499836618287,\n",
       "  0.29745723445755784,\n",
       "  0.4443382345351087,\n",
       "  0.19330501031732653,\n",
       "  0.2075822305018432,\n",
       "  0.3754878044460492,\n",
       "  0.760821392929005,\n",
       "  0.27931673652842054,\n",
       "  0.6885658808659053,\n",
       "  0.22580315257324363],\n",
       " [<__main__.OptimizedRounder at 0x7fd823066ef0>,\n",
       "  <__main__.OptimizedRounder at 0x7fd823066320>,\n",
       "  <__main__.OptimizedRounder at 0x7fd823066198>,\n",
       "  <__main__.OptimizedRounder at 0x7fd82305d4a8>,\n",
       "  <__main__.OptimizedRounder at 0x7fd823066f98>,\n",
       "  <__main__.OptimizedRounder at 0x7fd823066400>,\n",
       "  <__main__.OptimizedRounder at 0x7fd823066e10>,\n",
       "  <__main__.OptimizedRounder at 0x7fd82305dcc0>,\n",
       "  <__main__.OptimizedRounder at 0x7fd821013240>,\n",
       "  <__main__.OptimizedRounder at 0x7fd821013080>,\n",
       "  <__main__.OptimizedRounder at 0x7fd82305db38>,\n",
       "  <__main__.OptimizedRounder at 0x7fd821013828>,\n",
       "  <__main__.OptimizedRounder at 0x7fd821013e10>,\n",
       "  <__main__.OptimizedRounder at 0x7fd82102beb8>,\n",
       "  <__main__.OptimizedRounder at 0x7fd82102b160>,\n",
       "  <__main__.OptimizedRounder at 0x7fd82102b390>,\n",
       "  <__main__.OptimizedRounder at 0x7fd82102b2b0>,\n",
       "  <__main__.OptimizedRounder at 0x7fd82102b9e8>,\n",
       "  <__main__.OptimizedRounder at 0x7fd82102b978>,\n",
       "  <__main__.OptimizedRounder at 0x7fd82102bc50>,\n",
       "  <__main__.OptimizedRounder at 0x7fd82102b780>,\n",
       "  <__main__.OptimizedRounder at 0x7fd82102b048>,\n",
       "  <__main__.OptimizedRounder at 0x7fd82102b860>,\n",
       "  <__main__.OptimizedRounder at 0x7fd821006940>,\n",
       "  <__main__.OptimizedRounder at 0x7fd8210064e0>,\n",
       "  <__main__.OptimizedRounder at 0x7fd821006358>,\n",
       "  <__main__.OptimizedRounder at 0x7fd821006978>,\n",
       "  <__main__.OptimizedRounder at 0x7fd821006668>,\n",
       "  <__main__.OptimizedRounder at 0x7fd821006438>,\n",
       "  <__main__.OptimizedRounder at 0x7fd821006c18>])"
      ]
     },
     "execution_count": 25,
     "metadata": {},
     "output_type": "execute_result"
    }
   ],
   "source": [
    "blend_and_evaluate(single_bert_y_trues, [single_bert_y_preds,  single_roberta_y_preds, single_xlnet_y_preds, single_lstm_y_preds], compute_spearmanr,\n",
    "                                    weights=(0.30, 0.30, 0.30, 0.10))"
   ]
  },
  {
   "cell_type": "code",
   "execution_count": 16,
   "metadata": {
    "scrolled": true
   },
   "outputs": [
    {
     "name": "stdout",
     "output_type": "stream",
     "text": [
      "original_score: 0.42699472473101263\n",
      "opt_score: 0.45977228979419354\n"
     ]
    },
    {
     "data": {
      "text/plain": [
       "([0.3959018680425978,\n",
       "  0.6376227422901483,\n",
       "  0.4196973332280552,\n",
       "  0.33296020720420777,\n",
       "  0.3721781039333722,\n",
       "  0.44276646534091735,\n",
       "  0.3689865048551,\n",
       "  0.5073036153994255,\n",
       "  0.6166207383029141,\n",
       "  0.09534578978080581,\n",
       "  0.49660626644176054,\n",
       "  0.7610618934855841,\n",
       "  0.36988017509921556,\n",
       "  0.1980301707546101,\n",
       "  0.3636810901573147,\n",
       "  0.4729040558381175,\n",
       "  0.7920015817511173,\n",
       "  0.3753380671329925,\n",
       "  0.6944034501908416,\n",
       "  0.0697861951660607,\n",
       "  0.5134527768645245,\n",
       "  0.2957352584459093,\n",
       "  0.44937725156438585,\n",
       "  0.18812845360084238,\n",
       "  0.20876209203320678,\n",
       "  0.3800655094328022,\n",
       "  0.7692358747291859,\n",
       "  0.29527280572089165,\n",
       "  0.6991937070457257,\n",
       "  0.2275416980977498],\n",
       " [0.3880235295239206,\n",
       "  0.6358612698011991,\n",
       "  0.4853170142743035,\n",
       "  0.32374716442578927,\n",
       "  0.3821651057334961,\n",
       "  0.49152644343965346,\n",
       "  0.3705191870536341,\n",
       "  0.5215127151594829,\n",
       "  0.6229879927872752,\n",
       "  0.1200851378669567,\n",
       "  0.4802412588830681,\n",
       "  0.7638848742877291,\n",
       "  0.5471587926359825,\n",
       "  0.32424651169936425,\n",
       "  0.6277393287630108,\n",
       "  0.6302329257817295,\n",
       "  0.7992714875634022,\n",
       "  0.35905894862133686,\n",
       "  0.691195937346373,\n",
       "  0.24000005368949973,\n",
       "  0.5123925928624252,\n",
       "  0.29466144765092894,\n",
       "  0.4494275327505929,\n",
       "  0.1938558117355823,\n",
       "  0.20675557294496483,\n",
       "  0.37903947369022256,\n",
       "  0.7624194582385803,\n",
       "  0.27702265266176557,\n",
       "  0.6861385420951858,\n",
       "  0.2266799298583509],\n",
       " [<__main__.OptimizedRounder at 0x7f7cfa634cf8>,\n",
       "  <__main__.OptimizedRounder at 0x7f7cfa678048>,\n",
       "  <__main__.OptimizedRounder at 0x7f7cfa5d2fd0>,\n",
       "  <__main__.OptimizedRounder at 0x7f7e0f5938d0>,\n",
       "  <__main__.OptimizedRounder at 0x7f7cfa6c1c88>,\n",
       "  <__main__.OptimizedRounder at 0x7f7cfa6c1ba8>,\n",
       "  <__main__.OptimizedRounder at 0x7f7dcb2cada0>,\n",
       "  <__main__.OptimizedRounder at 0x7f7cfa5f5828>,\n",
       "  <__main__.OptimizedRounder at 0x7f7cfa5f5518>,\n",
       "  <__main__.OptimizedRounder at 0x7f7cfa5f5c88>,\n",
       "  <__main__.OptimizedRounder at 0x7f7cfa5f5b70>,\n",
       "  <__main__.OptimizedRounder at 0x7f7cfa5f5ef0>,\n",
       "  <__main__.OptimizedRounder at 0x7f7cfa5f5668>,\n",
       "  <__main__.OptimizedRounder at 0x7f7cfa5f5dd8>,\n",
       "  <__main__.OptimizedRounder at 0x7f7cfa5f5a58>,\n",
       "  <__main__.OptimizedRounder at 0x7f7cfa5f5630>,\n",
       "  <__main__.OptimizedRounder at 0x7f7cfa5f58d0>,\n",
       "  <__main__.OptimizedRounder at 0x7f7cfa5fcc88>,\n",
       "  <__main__.OptimizedRounder at 0x7f7cfa5fcd68>,\n",
       "  <__main__.OptimizedRounder at 0x7f7cfa5fc588>,\n",
       "  <__main__.OptimizedRounder at 0x7f7cfa5fc048>,\n",
       "  <__main__.OptimizedRounder at 0x7f7cfa5fc320>,\n",
       "  <__main__.OptimizedRounder at 0x7f7cfa5fccc0>,\n",
       "  <__main__.OptimizedRounder at 0x7f7cfa5fc470>,\n",
       "  <__main__.OptimizedRounder at 0x7f7cfa5fcb38>,\n",
       "  <__main__.OptimizedRounder at 0x7f7cfa5fcb70>,\n",
       "  <__main__.OptimizedRounder at 0x7f7cfa5fc7f0>,\n",
       "  <__main__.OptimizedRounder at 0x7f7cfa5fc5f8>,\n",
       "  <__main__.OptimizedRounder at 0x7f7cfa5fca20>,\n",
       "  <__main__.OptimizedRounder at 0x7f7cfa5fc908>])"
      ]
     },
     "execution_count": 16,
     "metadata": {},
     "output_type": "execute_result"
    }
   ],
   "source": [
    "blend_and_evaluate(single_bert_y_trues, [single_bert_y_preds,  single_roberta_y_preds, single_xlnet_y_preds, single_lstm_y_preds], compute_spearmanr)"
   ]
  },
  {
   "cell_type": "code",
   "execution_count": null,
   "metadata": {},
   "outputs": [],
   "source": []
  },
  {
   "cell_type": "markdown",
   "metadata": {},
   "source": [
    "#### 1, 1, 1, 0 で行くことにするので optR を取得"
   ]
  },
  {
   "cell_type": "code",
   "execution_count": 36,
   "metadata": {},
   "outputs": [
    {
     "name": "stdout",
     "output_type": "stream",
     "text": [
      "original_score: 0.42699472473101263\n",
      "opt_score: 0.45977228979419354\n"
     ]
    }
   ],
   "source": [
    "eval_scores, opt_eval_scores, optRs = blend_and_evaluate(bert_y_trues, [single_bert_y_preds,  single_roberta_y_preds, single_xlnet_y_preds, ], compute_spearmanr)"
   ]
  },
  {
   "cell_type": "code",
   "execution_count": 37,
   "metadata": {},
   "outputs": [],
   "source": [
    "!mkdir ../mnt/datasets/sub_e121_e129_bert1_roberta1_xlnet1"
   ]
  },
  {
   "cell_type": "code",
   "execution_count": 38,
   "metadata": {},
   "outputs": [],
   "source": [
    "with open('../mnt/datasets/sub_e121_e129_bert1_roberta1_xlnet1/optRs.pkl', 'wb') as fout:\n",
    "    pickle.dump(optRs, fout)"
   ]
  },
  {
   "cell_type": "code",
   "execution_count": 39,
   "metadata": {},
   "outputs": [
    {
     "data": {
      "text/plain": [
       "'0.3959018680425978,0.6376227422901483,0.4196973332280552,0.33296020720420777,0.3721781039333722,0.44276646534091735,0.3689865048551,0.5073036153994255,0.6166207383029141,0.09534578978080581,0.49660626644176054,0.7610618934855841,0.36988017509921556,0.1980301707546101,0.3636810901573147,0.4729040558381175,0.7920015817511173,0.3753380671329925,0.6944034501908416,0.0697861951660607,0.5134527768645245,0.2957352584459093,0.44937725156438585,0.18812845360084238,0.20876209203320678,0.3800655094328022,0.7692358747291859,0.29527280572089165,0.6991937070457257,0.2275416980977498'"
      ]
     },
     "execution_count": 39,
     "metadata": {},
     "output_type": "execute_result"
    }
   ],
   "source": [
    "','.join(([str(i) for i in eval_scores]))"
   ]
  },
  {
   "cell_type": "code",
   "execution_count": 40,
   "metadata": {},
   "outputs": [
    {
     "data": {
      "text/plain": [
       "'0.3880235295239206,0.6358612698011991,0.4853170142743035,0.32374716442578927,0.3821651057334961,0.49152644343965346,0.3705191870536341,0.5215127151594829,0.6229879927872752,0.1200851378669567,0.4802412588830681,0.7638848742877291,0.5471587926359825,0.32424651169936425,0.6277393287630108,0.6302329257817295,0.7992714875634022,0.35905894862133686,0.691195937346373,0.24000005368949973,0.5123925928624252,0.29466144765092894,0.4494275327505929,0.1938558117355823,0.20675557294496483,0.37903947369022256,0.7624194582385803,0.27702265266176557,0.6861385420951858,0.2266799298583509'"
      ]
     },
     "execution_count": 40,
     "metadata": {},
     "output_type": "execute_result"
    }
   ],
   "source": [
    "','.join(([str(i) for i in opt_eval_scores]))"
   ]
  },
  {
   "cell_type": "code",
   "execution_count": null,
   "metadata": {},
   "outputs": [],
   "source": []
  },
  {
   "cell_type": "code",
   "execution_count": null,
   "metadata": {},
   "outputs": [],
   "source": []
  },
  {
   "cell_type": "markdown",
   "metadata": {},
   "source": [
    "#### weights どうすればよいか見てみる"
   ]
  },
  {
   "cell_type": "code",
   "execution_count": 86,
   "metadata": {},
   "outputs": [
    {
     "data": {
      "text/plain": [
       "array([0. , 0.1, 0.2, 0.3, 0.4, 0.5, 0.6, 0.7, 0.8, 0.9, 1. ])"
      ]
     },
     "execution_count": 86,
     "metadata": {},
     "output_type": "execute_result"
    }
   ],
   "source": [
    "np.arange(0, 1.1, 0.1)"
   ]
  },
  {
   "cell_type": "code",
   "execution_count": null,
   "metadata": {
    "scrolled": true
   },
   "outputs": [
    {
     "name": "stdout",
     "output_type": "stream",
     "text": [
      " ---------- [0.0, 0.0, 1.0] -----------\n",
      "original_score: 0.3906094115371919\n",
      "opt_score: 0.4208016538440192\n",
      " ---------- [0.0, 0.1, 0.9] -----------\n",
      "original_score: 0.39690428620399504\n",
      "opt_score: 0.42660201555875216\n",
      " ---------- [0.0, 0.2, 0.8] -----------\n",
      "original_score: 0.40194251860786706\n",
      "opt_score: 0.4322132022423592\n",
      " ---------- [0.0, 0.30000000000000004, 0.7] -----------\n",
      "original_score: 0.4058057699680523\n",
      "opt_score: 0.4386623102560342\n",
      " ---------- [0.0, 0.4, 0.6] -----------\n",
      "original_score: 0.40850785092762126\n",
      "opt_score: 0.44218874682162584\n",
      " ---------- [0.0, 0.5, 0.5] -----------\n",
      "original_score: 0.41002182412980964\n",
      "opt_score: 0.4462993778180665\n",
      " ---------- [0.0, 0.6000000000000001, 0.3999999999999999] -----------\n",
      "original_score: 0.41026148164290954\n",
      "opt_score: 0.4472571871083271\n",
      " ---------- [0.0, 0.7000000000000001, 0.29999999999999993] -----------\n",
      "original_score: 0.4092935254165069\n",
      "opt_score: 0.4447945948297066\n",
      " ---------- [0.0, 0.8, 0.19999999999999996] -----------\n",
      "original_score: 0.4071226109088475\n",
      "opt_score: 0.44149242039308084\n",
      " ---------- [0.0, 0.9, 0.09999999999999998] -----------\n",
      "original_score: 0.4038100851193089\n",
      "opt_score: 0.4330500811805364\n",
      " ---------- [0.0, 1.0, 0.0] -----------\n",
      "original_score: 0.3993632474521848\n",
      "opt_score: 0.4290080945752392\n",
      " ---------- [0.1, 0.0, 0.9] -----------\n",
      "original_score: 0.39748350266169086\n",
      "opt_score: 0.4278666400362752\n",
      " ---------- [0.1, 0.1, 0.8] -----------\n",
      "original_score: 0.40324422328305176\n",
      "opt_score: 0.43408235733977446\n",
      " ---------- [0.1, 0.2, 0.7] -----------\n",
      "original_score: 0.4077683731503216\n",
      "opt_score: 0.43985924191367703\n",
      " ---------- [0.1, 0.30000000000000004, 0.6] -----------\n",
      "original_score: 0.4110554098541271\n",
      "opt_score: 0.44571924822157144\n",
      " ---------- [0.1, 0.4, 0.5] -----------\n",
      "original_score: 0.4131122847697061\n",
      "opt_score: 0.44868417856967324\n",
      " ---------- [0.1, 0.5, 0.4] -----------\n",
      "original_score: 0.4139117959954773\n",
      "opt_score: 0.450836448053662\n",
      " ---------- [0.1, 0.6000000000000001, 0.29999999999999993] -----------\n",
      "original_score: 0.413395270452552\n",
      "opt_score: 0.4497050463053298\n",
      " ---------- [0.1, 0.7000000000000001, 0.19999999999999996] -----------\n",
      "original_score: 0.4116181121505084\n",
      "opt_score: 0.4462789998437101\n",
      " ---------- [0.1, 0.8, 0.09999999999999998] -----------\n",
      "original_score: 0.40862906927463\n",
      "opt_score: 0.44315935620316327\n",
      " ---------- [0.1, 0.9, 0.0] -----------\n",
      "original_score: 0.4044804588771627\n",
      "opt_score: 0.4362263243371759\n",
      " ---------- [0.2, 0.0, 0.8] -----------\n",
      "original_score: 0.4030366974521133\n",
      "opt_score: 0.43332398695302526\n",
      " ---------- [0.2, 0.1, 0.7000000000000001] -----------\n",
      "original_score: 0.4082787231491284\n",
      "opt_score: 0.4394319910296513\n",
      " ---------- [0.2, 0.2, 0.6000000000000001] -----------\n",
      "original_score: 0.4122109110881969\n",
      "opt_score: 0.4467392098399321\n",
      " ---------- [0.2, 0.30000000000000004, 0.5] -----------\n",
      "original_score: 0.41486633139147655\n",
      "opt_score: 0.4511441206137097\n",
      " ---------- [0.2, 0.4, 0.4] -----------\n",
      "original_score: 0.4162163909978839\n",
      "opt_score: 0.45290931090368997\n",
      " ---------- [0.2, 0.5, 0.30000000000000004] -----------\n",
      "original_score: 0.4162242549777085\n",
      "opt_score: 0.45359488933318587\n",
      " ---------- [0.2, 0.6000000000000001, 0.19999999999999996] -----------\n",
      "original_score: 0.4149152980855812\n",
      "opt_score: 0.45304611155297586\n",
      " ---------- [0.2, 0.7000000000000001, 0.09999999999999998] -----------\n",
      "original_score: 0.4123107893367252\n",
      "opt_score: 0.4487017499478999\n",
      " ---------- [0.2, 0.8, 0.0] -----------\n",
      "original_score: 0.40846967440242793\n",
      "opt_score: 0.4430624933010472\n",
      " ---------- [0.30000000000000004, 0.0, 0.7] -----------\n",
      "original_score: 0.40729131177785344\n",
      "opt_score: 0.43781598898807583\n",
      " ---------- [0.30000000000000004, 0.1, 0.6] -----------\n",
      "original_score: 0.41194610345258925\n",
      "opt_score: 0.4461902044741034\n",
      " ---------- [0.30000000000000004, 0.2, 0.49999999999999994] -----------\n",
      "original_score: 0.4152449230838212\n",
      "opt_score: 0.4519592787876502\n",
      " ---------- [0.30000000000000004, 0.30000000000000004, 0.3999999999999999] -----------\n",
      "original_score: 0.4172189774302776\n",
      "opt_score: 0.45423666296711723\n",
      " ---------- [0.30000000000000004, 0.4, 0.29999999999999993] -----------\n",
      "original_score: 0.4177729706186509\n",
      "opt_score: 0.4534216107676207\n",
      " ---------- [0.30000000000000004, 0.5, 0.19999999999999996] -----------\n",
      "original_score: 0.4169541413426909\n",
      "opt_score: 0.4543957032369945\n",
      " ---------- [0.30000000000000004, 0.6000000000000001, 0.09999999999999987] -----------\n",
      "original_score: 0.4148010859152908\n",
      "opt_score: 0.4521703479075567\n",
      " ---------- [0.30000000000000004, 0.7000000000000001, -1.1102230246251565e-16] -----------\n",
      "original_score: 0.4113583235898544\n",
      "opt_score: 0.44625908468641007\n",
      " ---------- [0.4, 0.0, 0.6] -----------\n",
      "original_score: 0.41024293713824805\n",
      "opt_score: 0.442146440184194\n",
      " ---------- [0.4, 0.1, 0.5] -----------\n",
      "original_score: 0.4142478153509121\n",
      "opt_score: 0.4508208993672268\n",
      " ---------- [0.4, 0.2, 0.39999999999999997] -----------\n",
      "original_score: 0.41683524620651463\n",
      "opt_score: 0.44941043775420686\n",
      " ---------- [0.4, 0.30000000000000004, 0.29999999999999993] -----------\n",
      "original_score: 0.41799402521860696\n",
      "opt_score: 0.4549965176019642\n",
      " ---------- [0.4, 0.4, 0.19999999999999996] -----------\n",
      "original_score: 0.4177245275454408\n",
      "opt_score: 0.4527574049369053\n",
      " ---------- [0.4, 0.5, 0.09999999999999998] -----------\n",
      "original_score: 0.41607965904827376\n",
      "opt_score: 0.4539256837571395\n",
      " ---------- [0.4, 0.6000000000000001, -1.1102230246251565e-16] -----------\n",
      "original_score: 0.4130773472592561\n",
      "opt_score: 0.4512276202282265\n",
      " ---------- [0.5, 0.0, 0.5] -----------\n",
      "original_score: 0.41178708653970275\n",
      "opt_score: 0.44625862345005013\n",
      " ---------- [0.5, 0.1, 0.4] -----------\n",
      "original_score: 0.41508343118676305\n",
      "opt_score: 0.4527472697598408\n",
      " ---------- [0.5, 0.2, 0.3] -----------\n",
      "original_score: 0.4168968461485762\n",
      "opt_score: 0.45433832056502726\n",
      " ---------- [0.5, 0.30000000000000004, 0.19999999999999996] -----------\n",
      "original_score: 0.41722587135431627\n",
      "opt_score: 0.4540723581631398\n",
      " ---------- [0.5, 0.4, 0.09999999999999998] -----------\n",
      "original_score: 0.4161164811776062\n",
      "opt_score: 0.4526043832023072\n",
      " ---------- [0.5, 0.5, 0.0] -----------\n",
      "original_score: 0.4136372457321521\n",
      "opt_score: 0.4499488935599467\n",
      " ---------- [0.6000000000000001, 0.0, 0.3999999999999999] -----------\n",
      "original_score: 0.4119465720848831\n",
      "opt_score: 0.4487213094503234\n",
      " ---------- [0.6000000000000001, 0.1, 0.29999999999999993] -----------\n",
      "original_score: 0.41446677245950425\n",
      "opt_score: 0.4539415925049916\n",
      " ---------- [0.6000000000000001, 0.2, 0.1999999999999999] -----------\n",
      "original_score: 0.4154510199019416\n",
      "opt_score: 0.4558315647586004\n",
      " ---------- [0.6000000000000001, 0.30000000000000004, 0.09999999999999987] -----------\n",
      "original_score: 0.41493973222905123\n",
      "opt_score: 0.4534664402776515\n",
      " ---------- [0.6000000000000001, 0.4, -1.1102230246251565e-16] -----------\n",
      "original_score: 0.41298153527800424\n",
      "opt_score: 0.4512534962697753\n",
      " ---------- [0.7000000000000001, 0.0, 0.29999999999999993] -----------\n",
      "original_score: 0.41064652405959495\n",
      "opt_score: 0.4455286801828367\n",
      " ---------- [0.7000000000000001, 0.1, 0.19999999999999993] -----------\n",
      "original_score: 0.41236191367437747\n",
      "opt_score: 0.44743471945616403\n",
      " ---------- [0.7000000000000001, 0.2, 0.09999999999999992] -----------\n",
      "original_score: 0.412524046500147\n",
      "opt_score: 0.4485020333392361\n",
      " ---------- [0.7000000000000001, 0.30000000000000004, -1.1102230246251565e-16] -----------\n",
      "original_score: 0.41114020970739623\n",
      "opt_score: 0.4469950925534136\n",
      " ---------- [0.8, 0.0, 0.19999999999999996] -----------\n",
      "original_score: 0.4078782823568148\n",
      "opt_score: 0.440673633457698\n",
      " ---------- [0.8, 0.1, 0.09999999999999995] -----------\n",
      "original_score: 0.40878247835358944\n",
      "opt_score: 0.4449156375870886\n",
      " ---------- [0.8, 0.2, -5.551115123125783e-17] -----------\n",
      "original_score: 0.40808151259046327\n",
      "opt_score: 0.4426910039391641\n",
      " ---------- [0.9, 0.0, 0.09999999999999998] -----------\n",
      "original_score: 0.40367067430056447\n",
      "opt_score: 0.4352878842897589\n",
      " ---------- [0.9, 0.1, -2.7755575615628914e-17] -----------\n"
     ]
    }
   ],
   "source": [
    "for i in np.arange(0, 1.1, 0.1):\n",
    "    for j in np.arange(0, 1.01- i, 0.1):\n",
    "        weights = [i, j, 1-i-j]\n",
    "        print(f' ---------- {weights} -----------')\n",
    "        eval_scores, opt_eval_scores, optRs = blend_and_evaluate(bert_y_trues,\n",
    "                                                                                                                 [single_bert_y_preds,  roberta_y_preds, single_xlnet_y_preds],\n",
    "                                                                                                                 compute_spearmanr,\n",
    "                                                                                                                 weights=weights)"
   ]
  },
  {
   "cell_type": "code",
   "execution_count": null,
   "metadata": {},
   "outputs": [],
   "source": []
  },
  {
   "cell_type": "code",
   "execution_count": null,
   "metadata": {},
   "outputs": [],
   "source": []
  },
  {
   "cell_type": "markdown",
   "metadata": {},
   "source": [
    "## まとめ\n",
    " - (ちょっと気に入らんけど) bert * 2, roberta * 2, xlnet * 1 の average が良さそう (* 1, * 1, * 1, * 1 よりも)\n",
    " - 多分もう一つ別の良いモデルを入れられれば伸びる"
   ]
  },
  {
   "cell_type": "code",
   "execution_count": null,
   "metadata": {},
   "outputs": [],
   "source": []
  },
  {
   "cell_type": "code",
   "execution_count": null,
   "metadata": {},
   "outputs": [],
   "source": []
  },
  {
   "cell_type": "code",
   "execution_count": 44,
   "metadata": {},
   "outputs": [],
   "source": [
    "from transformers import RobertaModel\n",
    "model = RobertaModel.from_pretrained('roberta-base')"
   ]
  },
  {
   "cell_type": "code",
   "execution_count": 45,
   "metadata": {
    "scrolled": true
   },
   "outputs": [
    {
     "data": {
      "text/plain": [
       "{\n",
       "  \"architectures\": [\n",
       "    \"RobertaForMaskedLM\"\n",
       "  ],\n",
       "  \"attention_probs_dropout_prob\": 0.1,\n",
       "  \"finetuning_task\": null,\n",
       "  \"hidden_act\": \"gelu\",\n",
       "  \"hidden_dropout_prob\": 0.1,\n",
       "  \"hidden_size\": 768,\n",
       "  \"id2label\": {\n",
       "    \"0\": \"LABEL_0\",\n",
       "    \"1\": \"LABEL_1\"\n",
       "  },\n",
       "  \"initializer_range\": 0.02,\n",
       "  \"intermediate_size\": 3072,\n",
       "  \"is_decoder\": false,\n",
       "  \"label2id\": {\n",
       "    \"LABEL_0\": 0,\n",
       "    \"LABEL_1\": 1\n",
       "  },\n",
       "  \"layer_norm_eps\": 1e-05,\n",
       "  \"max_position_embeddings\": 514,\n",
       "  \"num_attention_heads\": 12,\n",
       "  \"num_hidden_layers\": 12,\n",
       "  \"num_labels\": 2,\n",
       "  \"output_attentions\": false,\n",
       "  \"output_hidden_states\": false,\n",
       "  \"output_past\": true,\n",
       "  \"pruned_heads\": {},\n",
       "  \"torchscript\": false,\n",
       "  \"type_vocab_size\": 1,\n",
       "  \"use_bfloat16\": false,\n",
       "  \"vocab_size\": 50265\n",
       "}"
      ]
     },
     "execution_count": 45,
     "metadata": {},
     "output_type": "execute_result"
    }
   ],
   "source": [
    "model.config"
   ]
  }
 ],
 "metadata": {
  "kernelspec": {
   "display_name": "Python 3",
   "language": "python",
   "name": "python3"
  },
  "language_info": {
   "codemirror_mode": {
    "name": "ipython",
    "version": 3
   },
   "file_extension": ".py",
   "mimetype": "text/x-python",
   "name": "python",
   "nbconvert_exporter": "python",
   "pygments_lexer": "ipython3",
   "version": "3.6.6"
  },
  "toc": {
   "base_numbering": 1,
   "nav_menu": {},
   "number_sections": true,
   "sideBar": true,
   "skip_h1_title": false,
   "title_cell": "Table of Contents",
   "title_sidebar": "Contents",
   "toc_cell": false,
   "toc_position": {},
   "toc_section_display": true,
   "toc_window_display": false
  }
 },
 "nbformat": 4,
 "nbformat_minor": 2
}
