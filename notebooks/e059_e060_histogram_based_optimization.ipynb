{
 "cells": [
  {
   "cell_type": "code",
   "execution_count": 1,
   "metadata": {},
   "outputs": [],
   "source": [
    "import os\n",
    "import sys\n",
    "import itertools\n",
    "from tqdm import tqdm_notebook as tqdm\n",
    "\n",
    "import numpy as np\n",
    "import pandas as pd\n",
    "from scipy.stats import spearmanr\n",
    "\n",
    "from matplotlib import pyplot as plt\n",
    "from matplotlib_venn import venn2, venn3\n",
    "import seaborn as sns\n",
    "\n",
    "import torch\n",
    "from torch import nn, optim\n",
    "from transformers import BertConfig, BertTokenizer, BertModel, BertForMaskedLM#, BertLayer, BertEmbeddings\n",
    "from transformers.modeling_bert import BertLayer, BertEmbeddings"
   ]
  },
  {
   "cell_type": "code",
   "execution_count": 2,
   "metadata": {},
   "outputs": [
    {
     "data": {
      "text/html": [
       "<style>.container { width:90% !important; }</style>"
      ],
      "text/plain": [
       "<IPython.core.display.HTML object>"
      ]
     },
     "metadata": {},
     "output_type": "display_data"
    }
   ],
   "source": [
    "pd.set_option('display.max_columns', 500)\n",
    "pd.set_option('display.max_rows', 500)\n",
    "\n",
    "# re-load functions\n",
    "%load_ext autoreload\n",
    "%autoreload 2\n",
    "\n",
    "from IPython.core.display import display, HTML\n",
    "display(HTML(\"<style>.container { width:90% !important; }</style>\"))\n",
    "%config InlineBackend.figure_formats = {'png', 'retina'}"
   ]
  },
  {
   "cell_type": "code",
   "execution_count": null,
   "metadata": {},
   "outputs": [],
   "source": [
    "DEVICE = 'cpu'"
   ]
  },
  {
   "cell_type": "code",
   "execution_count": null,
   "metadata": {},
   "outputs": [],
   "source": []
  },
  {
   "cell_type": "markdown",
   "metadata": {},
   "source": [
    "## model を load して snapshot ensemble 試してみる"
   ]
  },
  {
   "cell_type": "code",
   "execution_count": 50,
   "metadata": {},
   "outputs": [],
   "source": [
    "# q_ckpt = torch.load('../mnt/checkpoints/e061/0/fold_0_epoch_4_0.37116_0.42512_checkpoint.pth')\n",
    "q_ckpt = torch.load('../mnt/checkpoints/e059/0/fold_0_epoch_4_0.37282_0.42366_checkpoint.pth')"
   ]
  },
  {
   "cell_type": "code",
   "execution_count": 7,
   "metadata": {},
   "outputs": [
    {
     "data": {
      "text/plain": [
       "dict_keys(['current_fold', 'current_epoch', 'model_state_dict', 'optim_state_dict', 'scheduler_state_dict', 'histories', 'val_y_preds', 'val_y_trues', 'val_qa_ids'])"
      ]
     },
     "execution_count": 7,
     "metadata": {},
     "output_type": "execute_result"
    }
   ],
   "source": [
    "q_ckpt.keys()"
   ]
  },
  {
   "cell_type": "code",
   "execution_count": 51,
   "metadata": {},
   "outputs": [],
   "source": [
    "y_preds = q_ckpt['val_y_preds']\n",
    "y_trues = q_ckpt['val_y_trues']"
   ]
  },
  {
   "cell_type": "code",
   "execution_count": 60,
   "metadata": {},
   "outputs": [],
   "source": [
    "from scipy.stats import spearmanr\n",
    "\n",
    "def compute_spearmanr(trues, preds):\n",
    "    rhos = []\n",
    "    for col_trues, col_pred in zip(trues.T, preds.T):\n",
    "        rhos.append(\n",
    "            spearmanr(\n",
    "                col_trues,\n",
    "                col_pred).correlation)\n",
    "#                col_pred +\n",
    "#                np.random.normal(\n",
    "#                    0,\n",
    "#                    1e-7,\n",
    "#                    col_pred.shape[0])).correlation)\n",
    "    return rhos"
   ]
  },
  {
   "cell_type": "code",
   "execution_count": null,
   "metadata": {},
   "outputs": [],
   "source": [
    "# sys.path.append('')"
   ]
  },
  {
   "cell_type": "code",
   "execution_count": 52,
   "metadata": {},
   "outputs": [],
   "source": [
    "import sys\n",
    "import pickle\n",
    "from functools import partial\n",
    "from glob import glob\n",
    "\n",
    "import numpy as np\n",
    "import pandas as pd\n",
    "import scipy as sp\n",
    "import torch\n",
    "from scipy.stats import spearmanr\n",
    "from tqdm import tqdm\n",
    "\n",
    "class OptimizedRounder(object):\n",
    "    \"\"\"\n",
    "    An optimizer for rounding thresholds\n",
    "    to maximize Quadratic Weighted Kappa (QWK) score\n",
    "    # https://www.kaggle.com/naveenasaithambi/optimizedrounder-improved\n",
    "    \"\"\"\n",
    "\n",
    "    def __init__(self):\n",
    "        self.coef_ = 0\n",
    "\n",
    "    def _spearmanr_loss(self, coef, X, y, labels):\n",
    "        \"\"\"\n",
    "        Get loss according to\n",
    "        using current coefficients\n",
    "        :param coef: A list of coefficients that will be used for rounding\n",
    "        :param X: The raw predictions\n",
    "        :param y: The ground truth labels\n",
    "        \"\"\"\n",
    "        X_p = pd.cut(X, [-np.inf] + list(np.sort(coef)) +\n",
    "                     [np.inf], labels=labels)\n",
    "\n",
    "        # return -np.mean(spearmanr(y, X_p).correlation)\n",
    "        return -spearmanr(y, X_p).correlation\n",
    "\n",
    "    def fit(self, X, y, initial_coef):\n",
    "        \"\"\"\n",
    "        Optimize rounding thresholds\n",
    "        :param X: The raw predictions\n",
    "        :param y: The ground truth labels\n",
    "        \"\"\"\n",
    "        labels = self.labels\n",
    "        loss_partial = partial(self._spearmanr_loss, X=X, y=y, labels=labels)\n",
    "        self.coef_ = sp.optimize.minimize(\n",
    "            # loss_partial, initial_coef, method='Powell')\n",
    "            loss_partial, initial_coef, method='nelder-mead')\n",
    "\n",
    "    def predict(self, X, coef):\n",
    "        \"\"\"\n",
    "        Make predictions with specified thresholds\n",
    "        :param X: The raw predictions\n",
    "        :param coef: A list of coefficients that will be used for rounding\n",
    "        \"\"\"\n",
    "        labels = self.labels\n",
    "        return pd.cut(X, [-np.inf] + list(np.sort(coef)) +\n",
    "                      [np.inf], labels=labels)\n",
    "        # [np.inf], labels=[0, 1, 2, 3])\n",
    "\n",
    "    def coefficients(self):\n",
    "        \"\"\"\n",
    "        Return the optimized coefficients\n",
    "        \"\"\"\n",
    "        return self.coef_['x']\n",
    "\n",
    "    def set_labels(self, labels):\n",
    "        self.labels = labels"
   ]
  },
  {
   "cell_type": "code",
   "execution_count": 17,
   "metadata": {},
   "outputs": [
    {
     "data": {
      "text/plain": [
       "(1216, 21)"
      ]
     },
     "execution_count": 17,
     "metadata": {},
     "output_type": "execute_result"
    }
   ],
   "source": [
    "y_trues.shape"
   ]
  },
  {
   "cell_type": "code",
   "execution_count": 76,
   "metadata": {
    "scrolled": true
   },
   "outputs": [
    {
     "name": "stderr",
     "output_type": "stream",
     "text": [
      "100%|██████████| 21/21 [00:07<00:00,  2.74it/s]\n"
     ]
    }
   ],
   "source": [
    "#opt_threshs = []\n",
    "opt_y_preds = []\n",
    "\n",
    "for i in tqdm(list(range(21))):\n",
    "    optR = OptimizedRounder()\n",
    "    labels = np.sort(np.unique(y_trues[:, i]))\n",
    "    optR.set_labels(labels)\n",
    "    optR.fit(y_preds[:, i], y_trues[:, i], opt_threshs[i])\n",
    "    #optR.fit(y_preds[:, i], y_trues[:, i], (labels[:-1] + labels[1:]) / 2)\n",
    "    #opt_threshs.append(optR.coefficients())\n",
    "    opt_threshs[i] = optR.coefficients()\n",
    "    opt_y_preds.append((optR.predict(y_preds[:, i], optR.coefficients())))\n",
    "\n",
    "opt_y_preds = np.asarray(opt_y_preds).T"
   ]
  },
  {
   "cell_type": "code",
   "execution_count": 38,
   "metadata": {
    "scrolled": true
   },
   "outputs": [
    {
     "data": {
      "text/plain": [
       "[array([0.39302227, 0.47714736, 0.53073788, 0.61123846, 0.7214163 ,\n",
       "        0.80191743, 0.86528057, 0.94014891]),\n",
       " array([0.39730706, 0.47545026, 0.53606698, 0.63954269, 0.7094524 ,\n",
       "        0.79974446, 0.8605658 , 0.95144991]),\n",
       " array([0.15416667, 0.41796875, 0.62161458, 0.82552083]),\n",
       " array([0.16185593, 0.42727512, 0.61892357, 0.81198814]),\n",
       " array([0.15382093, 0.3733791 , 0.64216916, 0.96862651]),\n",
       " array([0.16954956, 0.42698669, 0.62090963, 0.77905273]),\n",
       " array([0.39337905, 0.4769847 , 0.53451731, 0.5977414 , 0.72068913,\n",
       "        0.81480649, 0.87722019, 0.95478971]),\n",
       " array([0.36257722, 0.48256197, 0.52506614, 0.62510089, 0.7304953 ,\n",
       "        0.78287694, 0.87356808, 0.97216328]),\n",
       " array([0.18282943, 0.33599756, 0.64340394, 0.8457047 ]),\n",
       " array([0.16666667, 0.41666667, 0.58333333]),\n",
       " array([0.16131903, 0.41386874, 0.59469924, 0.85130211]),\n",
       " array([0.1559806 , 0.42121014, 0.64533821, 0.80955015]),\n",
       " array([0.17083333, 0.42708333, 0.55416667, 0.85416667]),\n",
       " array([0.16666667, 0.41666667, 0.58333333, 0.83333333]),\n",
       " array([0.17898356, 0.39483643, 0.55697225, 0.8365682 ]),\n",
       " array([0.17955729, 0.40494792, 0.57376302, 0.78320312]),\n",
       " array([0.17448376, 0.41472906, 0.63097505, 0.77052667]),\n",
       " array([0.16218058, 0.43186188, 0.59193166, 0.81891378]),\n",
       " array([0.16336823, 0.39545822, 0.60111745, 0.85783641]),\n",
       " array([0.33333333]),\n",
       " array([0.38996066, 0.47426798, 0.53433599, 0.59850533, 0.75016905,\n",
       "        0.8059452 , 0.86424086, 0.95044662])]"
      ]
     },
     "execution_count": 38,
     "metadata": {},
     "output_type": "execute_result"
    }
   ],
   "source": [
    "opt_threshs"
   ]
  },
  {
   "cell_type": "code",
   "execution_count": 79,
   "metadata": {},
   "outputs": [
    {
     "data": {
      "text/plain": [
       "array([0.        , 0.66666667])"
      ]
     },
     "execution_count": 79,
     "metadata": {},
     "output_type": "execute_result"
    }
   ],
   "source": [
    "labels"
   ]
  },
  {
   "cell_type": "code",
   "execution_count": 78,
   "metadata": {},
   "outputs": [
    {
     "name": "stdout",
     "output_type": "stream",
     "text": [
      "[0.33333333]\n"
     ]
    },
    {
     "data": {
      "image/png": "[encoded data removed]",
      "text/plain": [
       "<Figure size 432x288 with 1 Axes>"
      ]
     },
     "metadata": {
      "image/png": {
       "height": 250,
       "width": 392
      },
      "needs_background": "light"
     },
     "output_type": "display_data"
    }
   ],
   "source": [
    "labels = np.sort(np.unique(y_trues[:, -2]))\n",
    "print((labels[:-1] + labels[1:]) / 2)\n",
    "plt.hist(y_preds[:, -2], bins=20, alpha=0.5)\n",
    "plt.show()"
   ]
  },
  {
   "cell_type": "code",
   "execution_count": 63,
   "metadata": {},
   "outputs": [],
   "source": [
    "sys.path.append('../scripts/')\n",
    "from get_optR import compute_spearmanr"
   ]
  },
  {
   "cell_type": "code",
   "execution_count": 61,
   "metadata": {
    "scrolled": true
   },
   "outputs": [
    {
     "data": {
      "text/plain": [
       "(0.42365526733188663,\n",
       " [0.384969310233197,\n",
       "  0.623579960944188,\n",
       "  0.38597861218218005,\n",
       "  0.2965319281335317,\n",
       "  0.3601127588316178,\n",
       "  0.4244568376560599,\n",
       "  0.3426745493275986,\n",
       "  0.4754872981892028,\n",
       "  0.5723454723165703,\n",
       "  0.09241134770701309,\n",
       "  0.4553912134662635,\n",
       "  0.7386794358257931,\n",
       "  0.3838518989930857,\n",
       "  0.14706976413580694,\n",
       "  0.37481553464727296,\n",
       "  0.5069665540952846,\n",
       "  0.7812411082542112,\n",
       "  0.3867338970470131,\n",
       "  0.6513562843208544,\n",
       "  0.030852191043118773,\n",
       "  0.4812546566197549])"
      ]
     },
     "execution_count": 61,
     "metadata": {},
     "output_type": "execute_result"
    }
   ],
   "source": [
    "res = compute_spearmanr(y_trues, y_preds)\n",
    "np.mean(res), res"
   ]
  },
  {
   "cell_type": "code",
   "execution_count": 65,
   "metadata": {
    "scrolled": true
   },
   "outputs": [
    {
     "data": {
      "text/plain": [
       "(0.4447947591784227,\n",
       " [0.3846070298242392,\n",
       "  0.6254149697328524,\n",
       "  0.3879330290124661,\n",
       "  0.29911636767441613,\n",
       "  0.3727020465458254,\n",
       "  0.47863959963590896,\n",
       "  0.3436315955826829,\n",
       "  0.48971758775730145,\n",
       "  0.5806140631137079,\n",
       "  -0.003415984857890416,\n",
       "  0.444610851581164,\n",
       "  0.7489088513586589,\n",
       "  0.5729371881977302,\n",
       "  0.17854274493478794,\n",
       "  0.5711735859183166,\n",
       "  0.6053695158868629,\n",
       "  0.789103033583828,\n",
       "  0.3360571620646135,\n",
       "  0.6518650702603498,\n",
       "  -0.0008230452674897118,\n",
       "  0.48398468020654645])"
      ]
     },
     "execution_count": 65,
     "metadata": {},
     "output_type": "execute_result"
    }
   ],
   "source": [
    "res = compute_spearmanr(y_trues, opt_y_preds)\n",
    "np.mean(res), res"
   ]
  },
  {
   "cell_type": "code",
   "execution_count": 77,
   "metadata": {
    "scrolled": true
   },
   "outputs": [
    {
     "data": {
      "text/plain": [
       "(0.4468774132258353,\n",
       " [0.3907354295662978,\n",
       "  0.628254620907902,\n",
       "  0.3879330290124661,\n",
       "  0.3014941871408696,\n",
       "  0.3733772188006947,\n",
       "  0.47863959963590896,\n",
       "  0.3459169197428066,\n",
       "  0.49371336006384764,\n",
       "  0.5806140631137079,\n",
       "  -0.003415984857890416,\n",
       "  0.444610851581164,\n",
       "  0.7529424697503816,\n",
       "  0.5762074079986355,\n",
       "  0.17854274493478794,\n",
       "  0.5714457335585823,\n",
       "  0.6061006342177655,\n",
       "  0.7959413712394267,\n",
       "  0.3360571620646135,\n",
       "  0.6541487029799542,\n",
       "  -0.0008230452674897118,\n",
       "  0.4919892015581099])"
      ]
     },
     "execution_count": 77,
     "metadata": {},
     "output_type": "execute_result"
    }
   ],
   "source": [
    "res = compute_spearmanr(y_trues, opt_y_preds)\n",
    "np.mean(res), res"
   ]
  },
  {
   "cell_type": "code",
   "execution_count": 87,
   "metadata": {
    "scrolled": true
   },
   "outputs": [
    {
     "name": "stdout",
     "output_type": "stream",
     "text": [
      "0.0008230452674897118\n",
      "0.0008230452674897118\n",
      "0.0008230452674897118\n",
      "0.0008230452674897118\n",
      "0.0008230452674897118\n",
      "0.0008230452674897118\n",
      "0.0008230452674897118\n",
      "0.002334658628264075\n",
      "0.006244204183442879\n",
      "0.009883071655182176\n",
      "0.013595327326919655\n",
      "0.01561826688573378\n",
      "0.01842147757887889\n",
      "0.020687763027805835\n",
      "0.022850536047427056\n",
      "0.02500647572952137\n",
      "0.027261474284972935\n",
      "0.028783292193898646\n",
      "0.03004183261902323\n",
      "0.031938864973604895\n",
      "0.03291328519828432\n",
      "0.034156442671689664\n",
      "0.0355858913347342\n",
      "0.03677848562449136\n",
      "0.03749612363527375\n",
      "0.03823530899738566\n",
      "0.03906794855159683\n",
      "0.04029832308159667\n",
      "0.041594167210653\n",
      "0.04214848882022276\n",
      "0.0432965468960686\n",
      "0.04432564334610916\n",
      "0.04549183318423835\n",
      "0.046524039064989885\n",
      "0.04800548665487304\n",
      "0.04893909749798219\n",
      "0.05024130768221452\n",
      "0.05103362533598017\n",
      "0.052210847757240594\n",
      "0.05370015597760876\n",
      "0.054347451360378794\n",
      "0.05541847911063888\n",
      "0.05625208922645383\n",
      "0.05755507928038141\n",
      "0.05800430031444568\n",
      "0.05908339165119152\n",
      "-0.013669930068507525\n",
      "-0.013258209795776375\n",
      "-0.01306983993375937\n",
      "-0.012842665093094865\n"
     ]
    }
   ],
   "source": [
    "for i in np.arange(0, 0.005, 0.0001):\n",
    "    opt_y_preds[:, -2] = (y_preds[:, -2] > i).astype(float)\n",
    "    # print(i, compute_spearmanr(y_trues, opt_y_preds)[-2])\n",
    "    print(compute_spearmanr(y_trues, opt_y_preds)[-2])"
   ]
  },
  {
   "cell_type": "code",
   "execution_count": null,
   "metadata": {},
   "outputs": [],
   "source": []
  },
  {
   "cell_type": "code",
   "execution_count": null,
   "metadata": {},
   "outputs": [],
   "source": []
  },
  {
   "cell_type": "markdown",
   "metadata": {},
   "source": [
    "## ヒストグラムベースで initialize したら良さそう"
   ]
  },
  {
   "cell_type": "code",
   "execution_count": 90,
   "metadata": {},
   "outputs": [
    {
     "data": {
      "text/plain": [
       "0.000000    0.999178\n",
       "0.666667    1.000000\n",
       "dtype: float64"
      ]
     },
     "execution_count": 90,
     "metadata": {},
     "output_type": "execute_result"
    }
   ],
   "source": [
    "pd.Series(y_trues[:, -2]).value_counts().cumsum() / y_trues.shape[0]"
   ]
  },
  {
   "cell_type": "code",
   "execution_count": 112,
   "metadata": {},
   "outputs": [
    {
     "data": {
      "text/plain": [
       "array([  12,   15,   24,   35,  125,  296,  317,  621, 1216])"
      ]
     },
     "execution_count": 112,
     "metadata": {},
     "output_type": "execute_result"
    }
   ],
   "source": [
    "pd.Series(y_trues[:, i]).value_counts().sort_index().cumsum().values"
   ]
  },
  {
   "cell_type": "code",
   "execution_count": 115,
   "metadata": {},
   "outputs": [],
   "source": [
    "class histogramBasedCoefInitializer:\n",
    "    def __init__(self):\n",
    "        self.bins = None\n",
    "\n",
    "    def fit(self, labels):\n",
    "        self.bins = pd.Series(labels).value_counts().sort_index().cumsum().values\n",
    "        return self\n",
    "\n",
    "    def predict(self, preds):\n",
    "        preds = sorted(preds)\n",
    "        res_threshs = []\n",
    "        if self.bins is None:\n",
    "            raise Exception('plz fit at first.')\n",
    "        for _bin in self.bins[:-1]:\n",
    "            res_threshs.append((preds[_bin - 1] + preds[_bin]) / 2)\n",
    "        return res_threshs"
   ]
  },
  {
   "cell_type": "code",
   "execution_count": 116,
   "metadata": {
    "scrolled": true
   },
   "outputs": [
    {
     "name": "stderr",
     "output_type": "stream",
     "text": [
      "\r",
      "  0%|          | 0/21 [00:00<?, ?it/s]"
     ]
    },
    {
     "name": "stdout",
     "output_type": "stream",
     "text": [
      "[  12   15   24   35  125  296  317  621 1216]\n"
     ]
    },
    {
     "name": "stderr",
     "output_type": "stream",
     "text": [
      "\r",
      "  5%|▍         | 1/21 [00:00<00:07,  2.75it/s]"
     ]
    },
    {
     "name": "stdout",
     "output_type": "stream",
     "text": [
      "[ 283  476  495  670  834  991 1000 1091 1216]\n"
     ]
    },
    {
     "name": "stderr",
     "output_type": "stream",
     "text": [
      " 14%|█▍        | 3/21 [00:00<00:05,  3.25it/s]"
     ]
    },
    {
     "name": "stdout",
     "output_type": "stream",
     "text": [
      "[1076 1150 1157 1195 1216]\n",
      "[ 171  277  360  645 1216]\n"
     ]
    },
    {
     "name": "stderr",
     "output_type": "stream",
     "text": [
      "\r",
      " 19%|█▉        | 4/21 [00:01<00:04,  3.41it/s]"
     ]
    },
    {
     "name": "stdout",
     "output_type": "stream",
     "text": [
      "[  65  223  237  510 1216]\n"
     ]
    },
    {
     "name": "stderr",
     "output_type": "stream",
     "text": [
      "\r",
      " 24%|██▍       | 5/21 [00:01<00:04,  3.49it/s]"
     ]
    },
    {
     "name": "stdout",
     "output_type": "stream",
     "text": [
      "[ 140  206  258  424 1216]\n"
     ]
    },
    {
     "name": "stderr",
     "output_type": "stream",
     "text": [
      "\r",
      " 29%|██▊       | 6/21 [00:01<00:04,  3.63it/s]"
     ]
    },
    {
     "name": "stdout",
     "output_type": "stream",
     "text": [
      "[  51  293  340  701 1068 1151 1158 1192 1216]\n"
     ]
    },
    {
     "name": "stderr",
     "output_type": "stream",
     "text": [
      "\r",
      " 33%|███▎      | 7/21 [00:02<00:04,  3.05it/s]"
     ]
    },
    {
     "name": "stdout",
     "output_type": "stream",
     "text": [
      "[ 385  689  730  898 1030 1113 1124 1166 1216]\n"
     ]
    },
    {
     "name": "stderr",
     "output_type": "stream",
     "text": [
      " 43%|████▎     | 9/21 [00:02<00:03,  3.35it/s]"
     ]
    },
    {
     "name": "stdout",
     "output_type": "stream",
     "text": [
      "[ 723  945  961 1105 1216]\n",
      "[1199 1209 1215 1216]\n"
     ]
    },
    {
     "name": "stderr",
     "output_type": "stream",
     "text": [
      "\r",
      " 52%|█████▏    | 11/21 [00:03<00:02,  3.97it/s]"
     ]
    },
    {
     "name": "stdout",
     "output_type": "stream",
     "text": [
      "[ 399  686  721 1011 1216]\n"
     ]
    },
    {
     "name": "stderr",
     "output_type": "stream",
     "text": [
      " 62%|██████▏   | 13/21 [00:03<00:01,  4.42it/s]"
     ]
    },
    {
     "name": "stdout",
     "output_type": "stream",
     "text": [
      "[ 689  895  914 1050 1216]\n",
      "[1126 1168 1170 1197 1216]\n",
      "[1186 1204 1206 1213 1216]\n"
     ]
    },
    {
     "name": "stderr",
     "output_type": "stream",
     "text": [
      " 71%|███████▏  | 15/21 [00:03<00:01,  5.31it/s]"
     ]
    },
    {
     "name": "stdout",
     "output_type": "stream",
     "text": [
      "[1140 1171 1174 1204 1216]\n",
      "[1035 1129 1135 1180 1216]\n"
     ]
    },
    {
     "name": "stderr",
     "output_type": "stream",
     "text": [
      " 81%|████████  | 17/21 [00:04<00:00,  5.45it/s]"
     ]
    },
    {
     "name": "stdout",
     "output_type": "stream",
     "text": [
      "[ 447  580  613  810 1216]\n",
      "[ 796 1045 1067 1178 1216]\n"
     ]
    },
    {
     "name": "stderr",
     "output_type": "stream",
     "text": [
      "\r",
      " 86%|████████▌ | 18/21 [00:04<00:00,  5.12it/s]"
     ]
    },
    {
     "name": "stdout",
     "output_type": "stream",
     "text": [
      "[ 506  781  800  996 1216]\n"
     ]
    },
    {
     "name": "stderr",
     "output_type": "stream",
     "text": [
      " 90%|█████████ | 19/21 [00:04<00:00,  4.98it/s]/opt/conda/lib/python3.6/site-packages/numpy/lib/function_base.py:2525: RuntimeWarning: invalid value encountered in true_divide\n",
      "  c /= stddev[:, None]\n",
      "/opt/conda/lib/python3.6/site-packages/numpy/lib/function_base.py:2526: RuntimeWarning: invalid value encountered in true_divide\n",
      "  c /= stddev[None, :]\n",
      "/opt/conda/lib/python3.6/site-packages/scipy/stats/_distn_infrastructure.py:903: RuntimeWarning: invalid value encountered in greater\n",
      "  return (a < x) & (x < b)\n",
      "/opt/conda/lib/python3.6/site-packages/scipy/stats/_distn_infrastructure.py:903: RuntimeWarning: invalid value encountered in less\n",
      "  return (a < x) & (x < b)\n",
      "/opt/conda/lib/python3.6/site-packages/scipy/stats/_distn_infrastructure.py:1912: RuntimeWarning: invalid value encountered in less_equal\n",
      "  cond2 = cond0 & (x <= _a)\n"
     ]
    },
    {
     "name": "stdout",
     "output_type": "stream",
     "text": [
      "[1215 1216]\n",
      "[  22   86   93  200  350  593  629  899 1216]\n"
     ]
    },
    {
     "name": "stderr",
     "output_type": "stream",
     "text": [
      "100%|██████████| 21/21 [00:04<00:00,  4.24it/s]\n"
     ]
    }
   ],
   "source": [
    "#opt_threshs = []\n",
    "opt_y_preds = []\n",
    "\n",
    "for i in tqdm(list(range(21))):\n",
    "    optR = OptimizedRounder()\n",
    "    labels = np.sort(np.unique(y_trues[:, i]))\n",
    "    optR.set_labels(labels)\n",
    "    # optR.fit(y_preds[:, i], y_trues[:, i], opt_threshs[i])\n",
    "    initer = histogramBasedCoefInitializer().fit(y_trues[:, i])\n",
    "    print(initer.bins)\n",
    "    opt_thresh = initer.predict(y_preds[:, i])\n",
    "    optR.fit(y_preds[:, i], y_trues[:, i], opt_thresh)\n",
    "    opt_threshs.append(optR.coefficients())\n",
    "    opt_threshs[i] = optR.coefficients()\n",
    "    opt_y_preds.append((optR.predict(y_preds[:, i], optR.coefficients())))\n",
    "\n",
    "opt_y_preds = np.asarray(opt_y_preds).T"
   ]
  },
  {
   "cell_type": "code",
   "execution_count": 118,
   "metadata": {
    "scrolled": true
   },
   "outputs": [
    {
     "data": {
      "text/plain": [
       "(0.45733650998217756,\n",
       " [0.3700587317588373,\n",
       "  0.6256334806413293,\n",
       "  0.42407695144702734,\n",
       "  0.30692434350732456,\n",
       "  0.36202875540236845,\n",
       "  0.4765107806174716,\n",
       "  0.3544213274569376,\n",
       "  0.4944343677251605,\n",
       "  0.5752612773444999,\n",
       "  0.3035418429002759,\n",
       "  0.44023908703760684,\n",
       "  0.7497857234125477,\n",
       "  0.5480262081242386,\n",
       "  0.12777823992145765,\n",
       "  0.5699419864681995,\n",
       "  0.6048507580634944,\n",
       "  0.7864679638072366,\n",
       "  0.3533359838916532,\n",
       "  0.6409735853120953,\n",
       "  -0.0008230452674897118,\n",
       "  0.490598360053456])"
      ]
     },
     "execution_count": 118,
     "metadata": {},
     "output_type": "execute_result"
    }
   ],
   "source": [
    "res = compute_spearmanr(y_trues, opt_y_preds)\n",
    "np.mean(res), res"
   ]
  },
  {
   "cell_type": "code",
   "execution_count": 120,
   "metadata": {},
   "outputs": [
    {
     "data": {
      "text/plain": [
       "'0.3700587317588373,0.6256334806413293,0.42407695144702734,0.30692434350732456,0.36202875540236845,0.4765107806174716,0.3544213274569376,0.4944343677251605,0.5752612773444999,0.3035418429002759,0.44023908703760684,0.7497857234125477,0.5480262081242386,0.12777823992145765,0.5699419864681995,0.6048507580634944,0.7864679638072366,0.3533359838916532,0.6409735853120953,-0.0008230452674897118,0.490598360053456'"
      ]
     },
     "execution_count": 120,
     "metadata": {},
     "output_type": "execute_result"
    }
   ],
   "source": [
    "','.join(pd.Series(res).astype(str).tolist())"
   ]
  },
  {
   "cell_type": "code",
   "execution_count": null,
   "metadata": {},
   "outputs": [],
   "source": []
  },
  {
   "cell_type": "markdown",
   "metadata": {},
   "source": [
    "## 全体で確認"
   ]
  },
  {
   "cell_type": "code",
   "execution_count": 129,
   "metadata": {},
   "outputs": [],
   "source": [
    "def get_best_ckpt(ckpts):\n",
    "    ckpt_dicts = []\n",
    "    for ckpt in ckpts:\n",
    "        ckpt_dict = {}\n",
    "        ckpt_dict['ckpt'] = ckpt\n",
    "        splitted_ckpt = ckpt.split('/')[-1].split('_')\n",
    "        ckpt_dict['val_metric'] = float(splitted_ckpt[5])\n",
    "        ckpt_dicts.append(ckpt_dict)\n",
    "    ckpt_df = pd.DataFrame(ckpt_dicts)\n",
    "    return ckpt_df.sort_values('val_metric', ascending=False).ckpt.iloc[0]"
   ]
  },
  {
   "cell_type": "code",
   "execution_count": 132,
   "metadata": {
    "scrolled": true
   },
   "outputs": [],
   "source": [
    "# q_ckpt = torch.load('../mnt/checkpoints/e061/0/fold_0_epoch_4_0.37116_0.42512_checkpoint.pth')\n",
    "# q_ckpt = torch.load('../mnt/checkpoints/e059/0/fold_0_epoch_4_0.37282_0.42366_checkpoint.pth')\n",
    "from glob import glob\n",
    "\n",
    "_y_preds = []\n",
    "_y_trues = []\n",
    "for i in tqdm(list(range(5))):\n",
    "    ckpt = torch.load(get_best_ckpt(glob(f'../mnt/checkpoints/e059/{i}/*.pth')))\n",
    "    _y_preds.append(ckpt['val_y_preds'])\n",
    "    _y_trues.append(ckpt['val_y_trues'])\n",
    "y_preds = np.concatenate(_y_preds)\n",
    "y_trues = np.concatenate(_y_trues)"
   ]
  },
  {
   "cell_type": "code",
   "execution_count": 133,
   "metadata": {
    "scrolled": true
   },
   "outputs": [
    {
     "name": "stderr",
     "output_type": "stream",
     "text": [
      "\r",
      "  0%|          | 0/21 [00:00<?, ?it/s]"
     ]
    },
    {
     "name": "stdout",
     "output_type": "stream",
     "text": [
      "[  68   80  113  173  676 1559 1667 3246 6079]\n"
     ]
    },
    {
     "name": "stderr",
     "output_type": "stream",
     "text": [
      "\r",
      "  5%|▍         | 1/21 [00:00<00:16,  1.23it/s]"
     ]
    },
    {
     "name": "stdout",
     "output_type": "stream",
     "text": [
      "[1506 2399 2493 3425 4270 4971 5026 5496 6079]\n"
     ]
    },
    {
     "name": "stderr",
     "output_type": "stream",
     "text": [
      "\r",
      " 10%|▉         | 2/21 [00:01<00:14,  1.30it/s]"
     ]
    },
    {
     "name": "stdout",
     "output_type": "stream",
     "text": [
      "[5409 5793 5823 5975 6079]\n"
     ]
    },
    {
     "name": "stderr",
     "output_type": "stream",
     "text": [
      "\r",
      " 14%|█▍        | 3/21 [00:01<00:10,  1.64it/s]"
     ]
    },
    {
     "name": "stdout",
     "output_type": "stream",
     "text": [
      "[ 806 1328 1770 3143 6079]\n"
     ]
    },
    {
     "name": "stderr",
     "output_type": "stream",
     "text": [
      "\r",
      " 19%|█▉        | 4/21 [00:02<00:08,  1.92it/s]"
     ]
    },
    {
     "name": "stdout",
     "output_type": "stream",
     "text": [
      "[ 315 1192 1273 2599 6079]\n"
     ]
    },
    {
     "name": "stderr",
     "output_type": "stream",
     "text": [
      "\r",
      " 24%|██▍       | 5/21 [00:02<00:07,  2.13it/s]"
     ]
    },
    {
     "name": "stdout",
     "output_type": "stream",
     "text": [
      "[ 657  981 1214 2008 6079]\n"
     ]
    },
    {
     "name": "stderr",
     "output_type": "stream",
     "text": [
      "\r",
      " 29%|██▊       | 6/21 [00:02<00:06,  2.44it/s]"
     ]
    },
    {
     "name": "stdout",
     "output_type": "stream",
     "text": [
      "[ 324 1582 1778 3477 5308 5779 5824 5979 6079]\n"
     ]
    },
    {
     "name": "stderr",
     "output_type": "stream",
     "text": [
      "\r",
      " 33%|███▎      | 7/21 [00:03<00:06,  2.08it/s]"
     ]
    },
    {
     "name": "stdout",
     "output_type": "stream",
     "text": [
      "[2124 3549 3727 4554 5197 5587 5628 5837 6079]\n"
     ]
    },
    {
     "name": "stderr",
     "output_type": "stream",
     "text": [
      "\r",
      " 38%|███▊      | 8/21 [00:03<00:06,  2.00it/s]"
     ]
    },
    {
     "name": "stdout",
     "output_type": "stream",
     "text": [
      "[3617 4711 4809 5506 6079]\n"
     ]
    },
    {
     "name": "stderr",
     "output_type": "stream",
     "text": [
      " 48%|████▊     | 10/21 [00:04<00:03,  2.77it/s]"
     ]
    },
    {
     "name": "stdout",
     "output_type": "stream",
     "text": [
      "[6013 6061 6072 6076 6079]\n",
      "[1964 3363 3530 4985 6079]\n"
     ]
    },
    {
     "name": "stderr",
     "output_type": "stream",
     "text": [
      "\r",
      " 52%|█████▏    | 11/21 [00:04<00:03,  2.82it/s]"
     ]
    },
    {
     "name": "stdout",
     "output_type": "stream",
     "text": [
      "[3363 4427 4521 5204 6079]\n"
     ]
    },
    {
     "name": "stderr",
     "output_type": "stream",
     "text": [
      "\r",
      " 57%|█████▋    | 12/21 [00:05<00:03,  2.77it/s]"
     ]
    },
    {
     "name": "stdout",
     "output_type": "stream",
     "text": [
      "[5652 5874 5889 6008 6079]\n"
     ]
    },
    {
     "name": "stderr",
     "output_type": "stream",
     "text": [
      " 67%|██████▋   | 14/21 [00:05<00:02,  3.30it/s]"
     ]
    },
    {
     "name": "stdout",
     "output_type": "stream",
     "text": [
      "[5948 6034 6042 6068 6079]\n",
      "[5735 5908 5918 6028 6079]\n"
     ]
    },
    {
     "name": "stderr",
     "output_type": "stream",
     "text": [
      "\r",
      " 71%|███████▏  | 15/21 [00:05<00:01,  3.54it/s]"
     ]
    },
    {
     "name": "stdout",
     "output_type": "stream",
     "text": [
      "[5348 5739 5772 5944 6079]\n"
     ]
    },
    {
     "name": "stderr",
     "output_type": "stream",
     "text": [
      "\r",
      " 76%|███████▌  | 16/21 [00:06<00:01,  3.63it/s]"
     ]
    },
    {
     "name": "stdout",
     "output_type": "stream",
     "text": [
      "[2171 2823 2972 4094 6079]\n"
     ]
    },
    {
     "name": "stderr",
     "output_type": "stream",
     "text": [
      "\r",
      " 81%|████████  | 17/21 [00:06<00:01,  3.54it/s]"
     ]
    },
    {
     "name": "stdout",
     "output_type": "stream",
     "text": [
      "[3958 5271 5388 5921 6079]\n"
     ]
    },
    {
     "name": "stderr",
     "output_type": "stream",
     "text": [
      "\r",
      " 86%|████████▌ | 18/21 [00:06<00:00,  3.38it/s]"
     ]
    },
    {
     "name": "stdout",
     "output_type": "stream",
     "text": [
      "[2456 3772 3881 4908 6079]\n"
     ]
    },
    {
     "name": "stderr",
     "output_type": "stream",
     "text": [
      "\r",
      " 90%|█████████ | 19/21 [00:06<00:00,  3.33it/s]"
     ]
    },
    {
     "name": "stdout",
     "output_type": "stream",
     "text": [
      "[6068 6075 6079]\n",
      "[ 131  438  471 1010 1849 2960 3123 4460 6079]\n"
     ]
    },
    {
     "name": "stderr",
     "output_type": "stream",
     "text": [
      "100%|██████████| 21/21 [00:07<00:00,  2.73it/s]\n"
     ]
    }
   ],
   "source": [
    "#opt_threshs = []\n",
    "opt_y_preds = []\n",
    "\n",
    "for i in tqdm(list(range(21))):\n",
    "    optR = OptimizedRounder()\n",
    "    labels = np.sort(np.unique(y_trues[:, i]))\n",
    "    optR.set_labels(labels)\n",
    "    # optR.fit(y_preds[:, i], y_trues[:, i], opt_threshs[i])\n",
    "    initer = histogramBasedCoefInitializer().fit(y_trues[:, i])\n",
    "    print(initer.bins)\n",
    "    opt_thresh = initer.predict(y_preds[:, i])\n",
    "    optR.fit(y_preds[:, i], y_trues[:, i], opt_thresh)\n",
    "    opt_threshs.append(optR.coefficients())\n",
    "    opt_threshs[i] = optR.coefficients()\n",
    "    opt_y_preds.append((optR.predict(y_preds[:, i], optR.coefficients())))\n",
    "\n",
    "opt_y_preds = np.asarray(opt_y_preds).T"
   ]
  },
  {
   "cell_type": "code",
   "execution_count": 134,
   "metadata": {
    "scrolled": true
   },
   "outputs": [
    {
     "data": {
      "text/plain": [
       "(0.41875484737168717,\n",
       " [0.363911068440288,\n",
       "  0.6008144988906639,\n",
       "  0.4082279341024141,\n",
       "  0.28265643046775407,\n",
       "  0.3393003650563328,\n",
       "  0.42235718977614184,\n",
       "  0.3395045950346734,\n",
       "  0.48587844964857557,\n",
       "  0.5756424573680071,\n",
       "  0.08575590290937565,\n",
       "  0.4625824720778311,\n",
       "  0.745218954417299,\n",
       "  0.35500489551466424,\n",
       "  0.16422138521670393,\n",
       "  0.3561049216924209,\n",
       "  0.44657287677028523,\n",
       "  0.7769642674848138,\n",
       "  0.3552536664858166,\n",
       "  0.6695556184316159,\n",
       "  0.0680205347712468,\n",
       "  0.4903033102485068])"
      ]
     },
     "execution_count": 134,
     "metadata": {},
     "output_type": "execute_result"
    }
   ],
   "source": [
    "res = compute_spearmanr(y_trues, y_preds)\n",
    "np.mean(res), res"
   ]
  },
  {
   "cell_type": "code",
   "execution_count": 135,
   "metadata": {
    "scrolled": true
   },
   "outputs": [
    {
     "data": {
      "text/plain": [
       "(0.4618767381412554,\n",
       " [0.36050609431997377,\n",
       "  0.5998477498317673,\n",
       "  0.45806528935865176,\n",
       "  0.2772540462911571,\n",
       "  0.35190356095594116,\n",
       "  0.4673578786035154,\n",
       "  0.3469152331984781,\n",
       "  0.49922211034870556,\n",
       "  0.568552584029848,\n",
       "  0.07845323740070112,\n",
       "  0.4549720841647557,\n",
       "  0.7581854623370284,\n",
       "  0.5146564583150868,\n",
       "  0.22078552605643811,\n",
       "  0.6109820081602259,\n",
       "  0.581899084425542,\n",
       "  0.778932608180467,\n",
       "  0.3349068803649809,\n",
       "  0.6615072921285315,\n",
       "  0.28485227869314783,\n",
       "  0.48965403380141986])"
      ]
     },
     "execution_count": 135,
     "metadata": {},
     "output_type": "execute_result"
    }
   ],
   "source": [
    "res = compute_spearmanr(y_trues, opt_y_preds)\n",
    "np.mean(res), res"
   ]
  },
  {
   "cell_type": "code",
   "execution_count": 136,
   "metadata": {},
   "outputs": [
    {
     "data": {
      "text/plain": [
       "'0.36050609431997377,0.5998477498317673,0.45806528935865176,0.2772540462911571,0.35190356095594116,0.4673578786035154,0.3469152331984781,0.49922211034870556,0.568552584029848,0.07845323740070112,0.4549720841647557,0.7581854623370284,0.5146564583150868,0.22078552605643811,0.6109820081602259,0.581899084425542,0.778932608180467,0.3349068803649809,0.6615072921285315,0.28485227869314783,0.48965403380141986'"
      ]
     },
     "execution_count": 136,
     "metadata": {},
     "output_type": "execute_result"
    }
   ],
   "source": [
    "','.join(pd.Series(res).astype(str).tolist())"
   ]
  }
 ],
 "metadata": {
  "kernelspec": {
   "display_name": "Python 3",
   "language": "python",
   "name": "python3"
  },
  "language_info": {
   "codemirror_mode": {
    "name": "ipython",
    "version": 3
   },
   "file_extension": ".py",
   "mimetype": "text/x-python",
   "name": "python",
   "nbconvert_exporter": "python",
   "pygments_lexer": "ipython3",
   "version": "3.6.6"
  },
  "toc": {
   "base_numbering": 1,
   "nav_menu": {},
   "number_sections": true,
   "sideBar": true,
   "skip_h1_title": false,
   "title_cell": "Table of Contents",
   "title_sidebar": "Contents",
   "toc_cell": false,
   "toc_position": {},
   "toc_section_display": true,
   "toc_window_display": false
  }
 },
 "nbformat": 4,
 "nbformat_minor": 2
}
