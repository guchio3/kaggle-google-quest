{
 "cells": [
  {
   "cell_type": "code",
   "execution_count": 4,
   "metadata": {},
   "outputs": [],
   "source": [
    "import os\n",
    "import sys\n",
    "import itertools\n",
    "import pickle\n",
    "from glob import glob\n",
    "from tqdm import tqdm_notebook as tqdm\n",
    "\n",
    "import numpy as np\n",
    "import pandas as pd\n",
    "from scipy.stats import spearmanr\n",
    "\n",
    "from matplotlib import pyplot as plt\n",
    "from matplotlib_venn import venn2, venn3\n",
    "import seaborn as sns\n",
    "\n",
    "import torch\n",
    "from torch import nn, optim\n",
    "from transformers import BertConfig, BertTokenizer, BertModel, BertForMaskedLM#, BertLayer, BertEmbeddings\n",
    "from transformers.modeling_bert import BertLayer, BertEmbeddings"
   ]
  },
  {
   "cell_type": "code",
   "execution_count": 2,
   "metadata": {},
   "outputs": [
    {
     "data": {
      "text/html": [
       "<style>.container { width:90% !important; }</style>"
      ],
      "text/plain": [
       "<IPython.core.display.HTML object>"
      ]
     },
     "metadata": {},
     "output_type": "display_data"
    }
   ],
   "source": [
    "pd.set_option('display.max_columns', 500)\n",
    "pd.set_option('display.max_rows', 500)\n",
    "\n",
    "# re-load functions\n",
    "%load_ext autoreload\n",
    "%autoreload 2\n",
    "\n",
    "from IPython.core.display import display, HTML\n",
    "display(HTML(\"<style>.container { width:90% !important; }</style>\"))\n",
    "%config InlineBackend.figure_formats = {'png', 'retina'}"
   ]
  },
  {
   "cell_type": "code",
   "execution_count": 3,
   "metadata": {},
   "outputs": [],
   "source": [
    "DEVICE = 'cpu'"
   ]
  },
  {
   "cell_type": "code",
   "execution_count": 37,
   "metadata": {},
   "outputs": [],
   "source": [
    "import sys\n",
    "import pickle\n",
    "from functools import partial\n",
    "from glob import glob\n",
    "\n",
    "import numpy as np\n",
    "import pandas as pd\n",
    "import scipy as sp\n",
    "import torch\n",
    "from scipy.stats import spearmanr\n",
    "from tqdm import tqdm\n",
    "\n",
    "class OptimizedRounder(object):\n",
    "    \"\"\"\n",
    "    An optimizer for rounding thresholds\n",
    "    to maximize Quadratic Weighted Kappa (QWK) score\n",
    "    # https://www.kaggle.com/naveenasaithambi/optimizedrounder-improved\n",
    "    \"\"\"\n",
    "\n",
    "    def __init__(self):\n",
    "        self.coef_ = 0\n",
    "\n",
    "    def _spearmanr_loss(self, coef, X, y, labels):\n",
    "        \"\"\"\n",
    "        Get loss according to\n",
    "        using current coefficients\n",
    "        :param coef: A list of coefficients that will be used for rounding\n",
    "        :param X: The raw predictions\n",
    "        :param y: The ground truth labels\n",
    "        \"\"\"\n",
    "        X_p = pd.cut(X, [-np.inf] + list(np.sort(coef)) +\n",
    "                     [np.inf], labels=labels)\n",
    "\n",
    "        # return -np.mean(spearmanr(y, X_p).correlation)\n",
    "        return -spearmanr(y, X_p).correlation\n",
    "\n",
    "    def fit(self, X, y, initial_coef):\n",
    "        \"\"\"\n",
    "        Optimize rounding thresholds\n",
    "        :param X: The raw predictions\n",
    "        :param y: The ground truth labels\n",
    "        \"\"\"\n",
    "        labels = self.labels\n",
    "        loss_partial = partial(self._spearmanr_loss, X=X, y=y, labels=labels)\n",
    "        self.coef_ = sp.optimize.minimize(\n",
    "            # loss_partial, initial_coef, method='Powell')\n",
    "            loss_partial, initial_coef, method='nelder-mead')\n",
    "\n",
    "    def predict(self, X, coef):\n",
    "        \"\"\"\n",
    "        Make predictions with specified thresholds\n",
    "        :param X: The raw predictions\n",
    "        :param coef: A list of coefficients that will be used for rounding\n",
    "        \"\"\"\n",
    "        labels = self.labels\n",
    "        return pd.cut(X, [-np.inf] + list(np.sort(coef)) +\n",
    "                      [np.inf], labels=labels)\n",
    "        # [np.inf], labels=[0, 1, 2, 3])\n",
    "\n",
    "    def coefficients(self):\n",
    "        \"\"\"\n",
    "        Return the optimized coefficients\n",
    "        \"\"\"\n",
    "        return self.coef_['x']\n",
    "\n",
    "    def set_labels(self, labels):\n",
    "        self.labels = labels"
   ]
  },
  {
   "cell_type": "code",
   "execution_count": 70,
   "metadata": {},
   "outputs": [],
   "source": [
    "# sys.path.append('../scripts/')\n",
    "# from get_optR3 import compute_spearmanr, get_opt_y_pred\n",
    "\n",
    "import os\n",
    "import pickle\n",
    "import sys\n",
    "from functools import partial\n",
    "from glob import glob\n",
    "\n",
    "import numpy as np\n",
    "import pandas as pd\n",
    "import scipy as sp\n",
    "import torch\n",
    "from scipy.stats import spearmanr\n",
    "from tqdm import tqdm\n",
    "\n",
    "\n",
    "class histogramBasedCoefInitializer:\n",
    "    def __init__(self):\n",
    "        self.bins = None\n",
    "\n",
    "    def fit(self, labels):\n",
    "        self.bins = pd.Series(\n",
    "            labels).value_counts().sort_index().cumsum().values\n",
    "        return self\n",
    "\n",
    "    def predict(self, preds):\n",
    "        preds = sorted(preds)\n",
    "        res_threshs = []\n",
    "        if self.bins is None:\n",
    "            raise Exception('plz fit at first.')\n",
    "        for _bin in self.bins[:-1]:\n",
    "            res_threshs.append((preds[_bin - 1] + preds[_bin]) / 2)\n",
    "        return res_threshs\n",
    "\n",
    "\n",
    "class OptimizedRounder(object):\n",
    "    \"\"\"\n",
    "    An optimizer for rounding thresholds\n",
    "    to maximize Quadratic Weighted Kappa (QWK) score\n",
    "    # https://www.kaggle.com/naveenasaithambi/optimizedrounder-improved\n",
    "    \"\"\"\n",
    "\n",
    "    def __init__(self):\n",
    "        self.coef_ = 0\n",
    "\n",
    "    def _spearmanr_loss(self, coef, X, y, labels):\n",
    "        \"\"\"\n",
    "        Get loss according to\n",
    "        using current coefficients\n",
    "        :param coef: A list of coefficients that will be used for rounding\n",
    "        :param X: The raw predictions\n",
    "        :param y: The ground truth labels\n",
    "        \"\"\"\n",
    "        X_p = pd.cut(X, [-np.inf] + list(np.sort(coef)) +\n",
    "                     [np.inf], labels=labels)\n",
    "\n",
    "        # return -np.mean(spearmanr(y, X_p).correlation)\n",
    "        return -spearmanr(y, X_p).correlation\n",
    "\n",
    "    def fit(self, X, y, initial_coef):\n",
    "        \"\"\"\n",
    "        Optimize rounding thresholds\n",
    "        :param X: The raw predictions\n",
    "        :param y: The ground truth labels\n",
    "        \"\"\"\n",
    "        labels = self.labels\n",
    "        loss_partial = partial(self._spearmanr_loss, X=X, y=y, labels=labels)\n",
    "        self.coef_ = sp.optimize.minimize(\n",
    "            loss_partial, initial_coef, method='nelder-mead')\n",
    "\n",
    "    def predict(self, X, coef):\n",
    "        \"\"\"\n",
    "        Make predictions with specified thresholds\n",
    "        :param X: The raw predictions\n",
    "        :param coef: A list of coefficients that will be used for rounding\n",
    "        \"\"\"\n",
    "        labels = self.labels\n",
    "        return pd.cut(X, [-np.inf] + list(np.sort(coef)) +\n",
    "                      [np.inf], labels=labels)\n",
    "        # [np.inf], labels=[0, 1, 2, 3])\n",
    "\n",
    "    def coefficients(self):\n",
    "        \"\"\"\n",
    "        Return the optimized coefficients\n",
    "        \"\"\"\n",
    "        return self.coef_['x']\n",
    "\n",
    "    def set_labels(self, labels):\n",
    "        self.labels = labels\n",
    "\n",
    "\n",
    "def compute_spearmanr(trues, preds):\n",
    "    rhos = []\n",
    "    for col_trues, col_pred in zip(trues.T, preds.T):\n",
    "        if len(np.unique(col_pred)) == 1:\n",
    "            if col_pred[0] == np.max(col_trues):\n",
    "                col_pred[np.argmin(\n",
    "                    col_pred)] = np.min(col_trues)\n",
    "            else:\n",
    "                col_pred[np.argmax(\n",
    "                    col_pred)] = np.max(col_trues)\n",
    "        rhos.append(\n",
    "            spearmanr(\n",
    "                col_trues,\n",
    "                col_pred\n",
    "                #                  + np.random.normal(\n",
    "                #                     0,\n",
    "                #                     1e-7,\n",
    "                #                     col_pred.shape[0])\n",
    "            ).correlation)\n",
    "    return rhos\n",
    "\n",
    "\n",
    "def get_best_ckpt(ckpts):\n",
    "    ckpt_dicts = []\n",
    "    for ckpt in ckpts:\n",
    "        ckpt_dict = {}\n",
    "        ckpt_dict['ckpt'] = ckpt\n",
    "        splitted_ckpt = ckpt.split('/')[-1].split('_')\n",
    "        ckpt_dict['val_metric'] = float(splitted_ckpt[5])\n",
    "        ckpt_dicts.append(ckpt_dict)\n",
    "    ckpt_df = pd.DataFrame(ckpt_dicts)\n",
    "    return ckpt_df.sort_values('val_metric', ascending=False).ckpt.iloc[0]\n",
    "\n",
    "\n",
    "def get_snapshot_info_df(base_dir):\n",
    "    res_dicts = []\n",
    "    for fold in tqdm(list(range(5))):\n",
    "        fold_ckpts = glob(f'{base_dir}/{fold}/*.pth')\n",
    "        for ckpt in fold_ckpts:\n",
    "            res_dict = {}\n",
    "            splitted_ckpt = ckpt.split('/')[-1].split('_')\n",
    "            res_dict['ckpt_filename'] = ckpt\n",
    "            res_dict['fold'] = int(splitted_ckpt[1])\n",
    "            res_dict['epoch'] = int(splitted_ckpt[3])\n",
    "            res_dict['val_loss'] = float(splitted_ckpt[4])\n",
    "            res_dict['val_metric'] = float(splitted_ckpt[5])\n",
    "            res_dicts.append(res_dict)\n",
    "    res_df = pd.DataFrame(res_dicts)\n",
    "    res_df['rank'] = res_df.groupby(['fold']).val_metric.rank()\n",
    "    return res_df\n",
    "\n",
    "\n",
    "def get_opt_y_pred(y_true, y_pred, num_labels):\n",
    "    optRs = []\n",
    "    opt_y_preds = []\n",
    "\n",
    "    # for i in tqdm(list(range(21))):\n",
    "    for i in range(num_labels):\n",
    "        optR = OptimizedRounder()\n",
    "        labels = np.sort(np.unique(y_true[:, i]))\n",
    "        optR.set_labels(labels)\n",
    "        initer = histogramBasedCoefInitializer().fit(y_true[:, i])\n",
    "        opt_thresh = initer.predict(y_pred[:, i])\n",
    "        optR.fit(y_pred[:, i], y_true[:, i], opt_thresh)\n",
    "        # opt_threshs.append(optR.coefficients())\n",
    "        # opt_threshs[i] = optR.coefficients()\n",
    "        optRs.append(optR)\n",
    "        opt_y_preds.append((optR.predict(y_pred[:, i], optR.coefficients())))\n",
    "\n",
    "    opt_y_preds = np.asarray(opt_y_preds).T\n",
    "    return optRs, opt_y_preds\n",
    "\n",
    "\n",
    "def opt(BASE_PATH, num_labels=30, snapshot_num=2):\n",
    "    snapshot_df = get_snapshot_info_df(BASE_PATH)\n",
    "\n",
    "    snapshot_dicts = {}\n",
    "    state_dict_dicts = {}\n",
    "    for fold in tqdm(list(range(5))):\n",
    "        snapshot_dict = {}\n",
    "        state_dict_dict = {}\n",
    "        for i, row in snapshot_df.query(f'fold == {fold}').sort_values(\n",
    "                'rank', ascending=False).reset_index(drop=True).iterrows():\n",
    "            if i >= snapshot_num:\n",
    "                continue\n",
    "            ckpt = torch.load(row['ckpt_filename'])\n",
    "            state_dict_dict[i] = ckpt['model_state_dict']\n",
    "            if i == 0:\n",
    "                qa_ids = ckpt['val_qa_ids']\n",
    "                qa_ids_argsort = np.argsort(qa_ids)\n",
    "                snapshot_dict['y_trues'] = [\n",
    "                    ckpt['val_y_trues'][qa_ids_argsort]]\n",
    "                snapshot_dict['y_preds'] = [\n",
    "                    ckpt['val_y_preds'][qa_ids_argsort]]\n",
    "            else:\n",
    "                qa_ids = ckpt['val_qa_ids']\n",
    "                qa_ids_argsort = np.argsort(qa_ids)\n",
    "                snapshot_dict['y_trues'].append(\n",
    "                    ckpt['val_y_trues'][qa_ids_argsort])\n",
    "                snapshot_dict['y_preds'].append(\n",
    "                    ckpt['val_y_preds'][qa_ids_argsort])\n",
    "        snapshot_dicts[fold] = snapshot_dict\n",
    "        state_dict_dicts[fold] = state_dict_dict\n",
    "\n",
    "    y_preds = np.concatenate(\n",
    "        [np.average(snapshot_dicts[fold]['y_preds'][:snapshot_num], axis=0)\n",
    "         for fold in range(5)])\n",
    "    y_trues = np.concatenate(\n",
    "        [snapshot_dicts[fold]['y_trues'][0]\n",
    "         for fold in range(5)])\n",
    "\n",
    "    reses = []\n",
    "    optRs = []\n",
    "\n",
    "    for i in tqdm(list(range(num_labels))):\n",
    "        y_pred = y_preds[:, i]\n",
    "        y_true = y_trues[:, i]\n",
    "\n",
    "        y_pred_argmax = np.argmax(y_pred)\n",
    "        y_pred_argmin = np.argmin(y_pred)\n",
    "\n",
    "        optR = OptimizedRounder()\n",
    "        labels = np.sort(np.unique(y_true))\n",
    "        optR.set_labels(labels)\n",
    "        initer = histogramBasedCoefInitializer().fit(y_true)\n",
    "        initial_coef = initer.predict(y_pred)\n",
    "        optR.fit(y_pred, y_true, initial_coef=initial_coef)\n",
    "        optRs.append(optR)\n",
    "        res = optR.predict(y_pred, optR.coefficients())\n",
    "\n",
    "        if len(np.unique(res)) == 1:\n",
    "            if np.unique(res) == res[y_pred_argmax]:\n",
    "                res[y_pred_argmin] = np.min(y_true)\n",
    "            else:\n",
    "                res[y_pred_argmax] = np.max(y_true)\n",
    "\n",
    "        reses.append(res)\n",
    "    reses = np.asarray(reses).T\n",
    "\n",
    "    with open(f'{BASE_PATH}/optRs.pkl', 'wb') as fout:\n",
    "        pickle.dump(optRs, fout)\n",
    "    with open(f'{BASE_PATH}/snapshot_dicts.pkl', 'wb') as fout:\n",
    "        pickle.dump(snapshot_dicts, fout)\n",
    "    if not os.path.exists(f'{BASE_PATH}/state_dicts'):\n",
    "        os.mkdir(f'{BASE_PATH}/state_dicts')\n",
    "    for fold in range(5):\n",
    "        for rank in range(snapshot_num):\n",
    "            with open(f'{BASE_PATH}/state_dicts/fold_{fold}_rank_{rank}_state_dict.pkl', 'wb') as fout:\n",
    "                pickle.dump(state_dict_dicts[fold][rank], fout)\n",
    "    # with open(f'{BASE_PATH}/state_dict_dicts.pkl', 'wb') as fout:\n",
    "    #     pickle.dump(state_dict_dicts, fout)\n",
    "\n",
    "    original_score = compute_spearmanr(y_trues, y_preds)\n",
    "    print(f'original_score: {original_score}')\n",
    "    print(f'original_score: {np.mean(original_score)}')\n",
    "\n",
    "    res_score = compute_spearmanr(y_trues, reses)\n",
    "    print(f'res_score: {res_score}')\n",
    "    print(f'res_score_mean: {np.mean(res_score)}')\n",
    "\n",
    "    return res_score"
   ]
  },
  {
   "cell_type": "code",
   "execution_count": 71,
   "metadata": {},
   "outputs": [],
   "source": [
    "class histogramBasedCoefInitializer:\n",
    "    def __init__(self):\n",
    "        self.bins = None\n",
    "\n",
    "    def fit(self, labels):\n",
    "        self.bins = pd.Series(labels).value_counts().sort_index().cumsum().values\n",
    "        return self\n",
    "\n",
    "    def predict(self, preds):\n",
    "        preds = sorted(preds)\n",
    "        res_threshs = []\n",
    "        if self.bins is None:\n",
    "            raise Exception('plz fit at first.')\n",
    "        for _bin in self.bins[:-1]:\n",
    "            res_threshs.append((preds[_bin - 1] + preds[_bin]) / 2)\n",
    "        return res_threshs"
   ]
  },
  {
   "cell_type": "code",
   "execution_count": null,
   "metadata": {},
   "outputs": [],
   "source": []
  },
  {
   "cell_type": "markdown",
   "metadata": {},
   "source": [
    "## snapshot 済みの model を load"
   ]
  },
  {
   "cell_type": "code",
   "execution_count": 6,
   "metadata": {},
   "outputs": [],
   "source": [
    "CKPT_DIR = '../mnt/checkpoints'\n",
    "\n",
    "with open(f'{CKPT_DIR}/e059/snapshot_dicts.pkl', 'rb') as fin:\n",
    "    bert_question_dict = pickle.load(fin)\n",
    "with open(f'{CKPT_DIR}/e060/snapshot_dicts.pkl', 'rb') as fin:\n",
    "    bert_answer_dict = pickle.load(fin)\n",
    "    \n",
    "with open(f'{CKPT_DIR}/e068/snapshot_dicts.pkl', 'rb') as fin:\n",
    "    roberta_question_dict = pickle.load(fin)\n",
    "with open(f'{CKPT_DIR}/e070/snapshot_dicts.pkl', 'rb') as fin:\n",
    "    roberta_answer_dict = pickle.load(fin)\n",
    "    \n",
    "with open(f'{CKPT_DIR}/e072/snapshot_dicts.pkl', 'rb') as fin:\n",
    "    gpt2_question_dict = pickle.load(fin)\n",
    "with open(f'{CKPT_DIR}/e073/snapshot_dicts.pkl', 'rb') as fin:\n",
    "    gpt2_answer_dict = pickle.load(fin)\n",
    "    \n",
    "with open(f'{CKPT_DIR}/e074/snapshot_dicts.pkl', 'rb') as fin:\n",
    "    xlnet_question_dict = pickle.load(fin)\n",
    "with open(f'{CKPT_DIR}/e075/snapshot_dicts.pkl', 'rb') as fin:\n",
    "    xlnet_answer_dict = pickle.load(fin)"
   ]
  },
  {
   "cell_type": "code",
   "execution_count": 8,
   "metadata": {},
   "outputs": [
    {
     "data": {
      "text/plain": [
       "dict_keys([0, 1, 2, 3, 4])"
      ]
     },
     "execution_count": 8,
     "metadata": {},
     "output_type": "execute_result"
    }
   ],
   "source": [
    "bert_question_dict.keys()"
   ]
  },
  {
   "cell_type": "code",
   "execution_count": 10,
   "metadata": {},
   "outputs": [
    {
     "data": {
      "text/plain": [
       "dict_keys(['y_trues', 'y_preds'])"
      ]
     },
     "execution_count": 10,
     "metadata": {},
     "output_type": "execute_result"
    }
   ],
   "source": [
    "bert_question_dict[0].keys()"
   ]
  },
  {
   "cell_type": "code",
   "execution_count": 11,
   "metadata": {},
   "outputs": [
    {
     "data": {
      "text/plain": [
       "dict_keys([0, 1, 2, 3, 4])"
      ]
     },
     "execution_count": 11,
     "metadata": {},
     "output_type": "execute_result"
    }
   ],
   "source": [
    "xlnet_answer_dict.keys()"
   ]
  },
  {
   "cell_type": "code",
   "execution_count": 72,
   "metadata": {},
   "outputs": [],
   "source": [
    "def _get_y_trues_and_y_preds_from_snapshot_dicts(snapshot_dicts, single):\n",
    "    y_trues, y_preds = [], []\n",
    "    for fold in range(5):\n",
    "        if single:\n",
    "            y_trues.append(snapshot_dicts[fold]['y_trues'][0])\n",
    "            y_preds.append(snapshot_dicts[fold]['y_preds'][0])\n",
    "        else:\n",
    "            y_trues.append(np.average(snapshot_dicts[fold]['y_trues'], axis=0))\n",
    "            y_preds.append(np.average(snapshot_dicts[fold]['y_preds'], axis=0))\n",
    "    y_trues = np.concatenate(y_trues)\n",
    "    y_preds = np.concatenate(y_preds)\n",
    "    return y_trues, y_preds\n",
    "\n",
    "def get_y_trues_and_y_preds_from_QA_snapshota_dicts(Q_snapshot_dicts, A_snapshot_dicts, single=False):\n",
    "    q_y_trues, q_y_preds = _get_y_trues_and_y_preds_from_snapshot_dicts(Q_snapshot_dicts, single)\n",
    "    a_y_trues, a_y_preds = _get_y_trues_and_y_preds_from_snapshot_dicts(A_snapshot_dicts, single)\n",
    "    y_trues = np.concatenate([q_y_trues, a_y_trues], axis=1)\n",
    "    y_preds = np.concatenate([q_y_preds, a_y_preds], axis=1)\n",
    "    return y_trues, y_preds"
   ]
  },
  {
   "cell_type": "code",
   "execution_count": 34,
   "metadata": {
    "scrolled": true
   },
   "outputs": [],
   "source": [
    "# %debug\n",
    "bert_y_trues, bert_y_preds = get_y_trues_and_y_preds_from_QA_snapshota_dicts(bert_question_dict, bert_answer_dict)\n",
    "roberta_y_trues, roberta_y_preds = get_y_trues_and_y_preds_from_QA_snapshota_dicts(roberta_question_dict, roberta_answer_dict)\n",
    "gpt2_y_trues, gpt2_y_preds = get_y_trues_and_y_preds_from_QA_snapshota_dicts(gpt2_question_dict, gpt2_answer_dict)\n",
    "xlnet_y_trues, xlnet_y_preds = get_y_trues_and_y_preds_from_QA_snapshota_dicts(xlnet_question_dict, xlnet_answer_dict)"
   ]
  },
  {
   "cell_type": "code",
   "execution_count": 35,
   "metadata": {
    "scrolled": true
   },
   "outputs": [],
   "source": [
    "# %debug\n",
    "single_bert_y_trues, single_bert_y_preds = get_y_trues_and_y_preds_from_QA_snapshota_dicts(bert_question_dict, bert_answer_dict, single=True)\n",
    "single_roberta_y_trues, single_roberta_y_preds = get_y_trues_and_y_preds_from_QA_snapshota_dicts(roberta_question_dict, roberta_answer_dict, single=True)\n",
    "single_gpt2_y_trues, single_gpt2_y_preds = get_y_trues_and_y_preds_from_QA_snapshota_dicts(gpt2_question_dict, gpt2_answer_dict, single=True)\n",
    "single_xlnet_y_trues, single_xlnet_y_preds = get_y_trues_and_y_preds_from_QA_snapshota_dicts(xlnet_question_dict, xlnet_answer_dict, single=True)"
   ]
  },
  {
   "cell_type": "code",
   "execution_count": 31,
   "metadata": {},
   "outputs": [
    {
     "data": {
      "text/plain": [
       "(True, True, True)"
      ]
     },
     "execution_count": 31,
     "metadata": {},
     "output_type": "execute_result"
    }
   ],
   "source": [
    "# 良さそう\n",
    "(bert_y_trues == roberta_y_trues).all(), (bert_y_trues == gpt2_y_trues).all(), (bert_y_trues == xlnet_y_trues).all()"
   ]
  },
  {
   "cell_type": "code",
   "execution_count": 32,
   "metadata": {},
   "outputs": [
    {
     "data": {
      "text/plain": [
       "(False, False, False)"
      ]
     },
     "execution_count": 32,
     "metadata": {},
     "output_type": "execute_result"
    }
   ],
   "source": [
    "(bert_y_preds == roberta_y_preds).all(), (bert_y_preds == gpt2_y_preds).all(), (bert_y_preds == xlnet_y_preds).all()"
   ]
  },
  {
   "cell_type": "code",
   "execution_count": null,
   "metadata": {},
   "outputs": [],
   "source": []
  },
  {
   "cell_type": "markdown",
   "metadata": {},
   "source": [
    "## 混ぜてみる\n",
    " - 4 つ全て混ぜてみる\n",
    " - 3/4 の　snapshot 混ぜてみる？"
   ]
  },
  {
   "cell_type": "code",
   "execution_count": 73,
   "metadata": {},
   "outputs": [],
   "source": [
    "def blend_and_evaluate(y_trues, y_preds_list, eval_func, weights=None):\n",
    "    if weights:\n",
    "        y_preds = np.average(y_preds_list, axis=0, weights=weights)\n",
    "    else:\n",
    "        y_preds = np.average(y_preds_list, axis=0)\n",
    "    eval_scores = eval_func(y_trues, y_preds)\n",
    "    optRs, opt_y_preds = get_opt_y_pred(y_trues, y_preds, num_labels=30)\n",
    "    opt_eval_scores = eval_func(y_trues, opt_y_preds)\n",
    "    print(f'original_score: {np.mean(eval_scores)}')\n",
    "    print(f'opt_score: {np.mean(opt_eval_scores)}')\n",
    "    return eval_scores, opt_eval_scores, optRs"
   ]
  },
  {
   "cell_type": "markdown",
   "metadata": {},
   "source": [
    "#### 試しに single, top-2 snapshots を見てみる"
   ]
  },
  {
   "cell_type": "code",
   "execution_count": 54,
   "metadata": {},
   "outputs": [
    {
     "name": "stdout",
     "output_type": "stream",
     "text": [
      "original_score: 0.39787353711376366\n",
      "opt_score: 0.4261143948591801\n",
      "original_score: 0.3917349489436032\n",
      "opt_score: 0.4159272241610885\n",
      "original_score: 0.38234367637291916\n",
      "opt_score: 0.4048386132780595\n",
      "original_score: 0.3906094115371919\n",
      "opt_score: 0.4208016538440192\n",
      "fini!\n"
     ]
    }
   ],
   "source": [
    "blend_and_evaluate(single_bert_y_trues, [single_bert_y_preds,  ], compute_spearmanr)\n",
    "blend_and_evaluate(single_bert_y_trues, [single_roberta_y_preds, ], compute_spearmanr)\n",
    "blend_and_evaluate(single_bert_y_trues, [single_gpt2_y_preds, ], compute_spearmanr)\n",
    "blend_and_evaluate(single_bert_y_trues, [single_xlnet_y_preds], compute_spearmanr)\n",
    "print('fini!')"
   ]
  },
  {
   "cell_type": "code",
   "execution_count": 55,
   "metadata": {
    "scrolled": true
   },
   "outputs": [
    {
     "name": "stdout",
     "output_type": "stream",
     "text": [
      "original_score: 0.40377496605021973\n",
      "opt_score: 0.44007917576260047\n",
      "original_score: 0.3993632474521848\n",
      "opt_score: 0.4290080945752392\n"
     ]
    },
    {
     "name": "stderr",
     "output_type": "stream",
     "text": [
      "/opt/conda/lib/python3.6/site-packages/numpy/lib/function_base.py:2525: RuntimeWarning: invalid value encountered in true_divide\n",
      "  c /= stddev[:, None]\n",
      "/opt/conda/lib/python3.6/site-packages/numpy/lib/function_base.py:2526: RuntimeWarning: invalid value encountered in true_divide\n",
      "  c /= stddev[None, :]\n",
      "/opt/conda/lib/python3.6/site-packages/scipy/stats/_distn_infrastructure.py:903: RuntimeWarning: invalid value encountered in greater\n",
      "  return (a < x) & (x < b)\n",
      "/opt/conda/lib/python3.6/site-packages/scipy/stats/_distn_infrastructure.py:903: RuntimeWarning: invalid value encountered in less\n",
      "  return (a < x) & (x < b)\n",
      "/opt/conda/lib/python3.6/site-packages/scipy/stats/_distn_infrastructure.py:1912: RuntimeWarning: invalid value encountered in less_equal\n",
      "  cond2 = cond0 & (x <= _a)\n"
     ]
    },
    {
     "name": "stdout",
     "output_type": "stream",
     "text": [
      "original_score: 0.3854747911354585\n",
      "opt_score: 0.4121866682795468\n",
      "original_score: 0.3977770316464774\n",
      "opt_score: 0.42765094537546605\n",
      "fini!\n"
     ]
    }
   ],
   "source": [
    "blend_and_evaluate(single_bert_y_trues, [bert_y_preds,  ], compute_spearmanr)\n",
    "blend_and_evaluate(single_bert_y_trues, [roberta_y_preds, ], compute_spearmanr)\n",
    "blend_and_evaluate(single_bert_y_trues, [gpt2_y_preds, ], compute_spearmanr)\n",
    "blend_and_evaluate(single_bert_y_trues, [xlnet_y_preds], compute_spearmanr)\n",
    "print('fini!')"
   ]
  },
  {
   "cell_type": "markdown",
   "metadata": {},
   "source": [
    "#### all blends がどうなるかを見てみる"
   ]
  },
  {
   "cell_type": "code",
   "execution_count": 53,
   "metadata": {},
   "outputs": [
    {
     "name": "stdout",
     "output_type": "stream",
     "text": [
      "original_score: 0.4180430600394728\n",
      "opt_score: 0.45011560307585413\n"
     ]
    }
   ],
   "source": [
    "eval_scores, opt_eval_scores = blend_and_evaluate(single_bert_y_trues, [single_bert_y_preds,  single_roberta_y_preds, single_gpt2_y_preds, single_xlnet_y_preds], compute_spearmanr)"
   ]
  },
  {
   "cell_type": "code",
   "execution_count": null,
   "metadata": {},
   "outputs": [],
   "source": []
  },
  {
   "cell_type": "markdown",
   "metadata": {},
   "source": [
    "#### 組み合わせがどうなるかを見てみる"
   ]
  },
  {
   "cell_type": "code",
   "execution_count": 56,
   "metadata": {},
   "outputs": [
    {
     "name": "stdout",
     "output_type": "stream",
     "text": [
      "original_score: 0.4123991396964391\n",
      "opt_score: 0.44228018730704144\n",
      "original_score: 0.41487735800374637\n",
      "opt_score: 0.44704608097446064\n",
      "original_score: 0.4165326987734412\n",
      "opt_score: 0.4536773141844584\n",
      "original_score: 0.4142418328259677\n",
      "opt_score: 0.44462524506286166\n",
      "fini!\n"
     ]
    }
   ],
   "source": [
    "blend_and_evaluate(single_bert_y_trues, [ single_roberta_y_preds, single_gpt2_y_preds, single_xlnet_y_preds], compute_spearmanr)\n",
    "blend_and_evaluate(single_bert_y_trues, [single_bert_y_preds, single_gpt2_y_preds, single_xlnet_y_preds], compute_spearmanr)\n",
    "blend_and_evaluate(single_bert_y_trues, [single_bert_y_preds,  single_roberta_y_preds, single_xlnet_y_preds], compute_spearmanr)\n",
    "blend_and_evaluate(single_bert_y_trues, [single_bert_y_preds,  single_roberta_y_preds, single_gpt2_y_preds], compute_spearmanr)\n",
    "print('fini!')"
   ]
  },
  {
   "cell_type": "code",
   "execution_count": 58,
   "metadata": {},
   "outputs": [
    {
     "name": "stdout",
     "output_type": "stream",
     "text": [
      "original_score: 0.41494955942931444\n",
      "opt_score: 0.4396218163436752\n",
      "original_score: 0.41725360795561056\n",
      "opt_score: 0.45043969072616535\n",
      "original_score: 0.41943000297059607\n",
      "opt_score: 0.455408513948017\n",
      "original_score: 0.4165551766237184\n",
      "opt_score: 0.44958809940315647\n",
      "fini!\n"
     ]
    }
   ],
   "source": [
    "blend_and_evaluate(bert_y_trues, [ roberta_y_preds, gpt2_y_preds, xlnet_y_preds], compute_spearmanr)\n",
    "blend_and_evaluate(bert_y_trues, [bert_y_preds, gpt2_y_preds, xlnet_y_preds], compute_spearmanr)\n",
    "blend_and_evaluate(bert_y_trues, [bert_y_preds,  roberta_y_preds, xlnet_y_preds], compute_spearmanr)\n",
    "blend_and_evaluate(bert_y_trues, [bert_y_preds,  roberta_y_preds, gpt2_y_preds], compute_spearmanr)\n",
    "print('fini!')"
   ]
  },
  {
   "cell_type": "markdown",
   "metadata": {},
   "source": [
    "#### 一番良さそうな gpt2 抜きの場合にどれを single にするとよいか見てみる"
   ]
  },
  {
   "cell_type": "code",
   "execution_count": 59,
   "metadata": {},
   "outputs": [
    {
     "name": "stdout",
     "output_type": "stream",
     "text": [
      "original_score: 0.4186640931608012\n",
      "opt_score: 0.45243258027214034\n",
      "original_score: 0.4186459442933615\n",
      "opt_score: 0.4563528045631384\n",
      "original_score: 0.41862052031267105\n",
      "opt_score: 0.4571952857338109\n",
      "fini!\n"
     ]
    }
   ],
   "source": [
    "blend_and_evaluate(bert_y_trues, [single_bert_y_preds,  roberta_y_preds, xlnet_y_preds], compute_spearmanr)\n",
    "blend_and_evaluate(bert_y_trues, [bert_y_preds,  single_roberta_y_preds, xlnet_y_preds], compute_spearmanr)\n",
    "blend_and_evaluate(bert_y_trues, [bert_y_preds,  roberta_y_preds, single_xlnet_y_preds], compute_spearmanr)\n",
    "print('fini!')"
   ]
  },
  {
   "cell_type": "code",
   "execution_count": null,
   "metadata": {},
   "outputs": [],
   "source": []
  },
  {
   "cell_type": "markdown",
   "metadata": {},
   "source": [
    "## 2, 2, 1 じゃ disk 足りなかった..."
   ]
  },
  {
   "cell_type": "code",
   "execution_count": 64,
   "metadata": {},
   "outputs": [
    {
     "name": "stdout",
     "output_type": "stream",
     "text": [
      "original_score: 0.41766799758567713\n",
      "opt_score: 0.4527705536288453\n",
      "original_score: 0.41742998990308045\n",
      "opt_score: 0.4525666155163446\n",
      "original_score: 0.41790617961638554\n",
      "opt_score: 0.45475244816683874\n",
      "fini!\n"
     ]
    }
   ],
   "source": [
    "blend_and_evaluate(bert_y_trues, [single_bert_y_preds,  single_roberta_y_preds, xlnet_y_preds], compute_spearmanr)\n",
    "blend_and_evaluate(bert_y_trues, [bert_y_preds,  single_roberta_y_preds, single_xlnet_y_preds], compute_spearmanr)\n",
    "blend_and_evaluate(bert_y_trues, [single_bert_y_preds,  roberta_y_preds, single_xlnet_y_preds], compute_spearmanr)\n",
    "print('fini!')"
   ]
  },
  {
   "cell_type": "code",
   "execution_count": null,
   "metadata": {},
   "outputs": [],
   "source": []
  },
  {
   "cell_type": "markdown",
   "metadata": {},
   "source": [
    "#### いったん 1, 2, 0, 1 で行くことにするので optR を取得"
   ]
  },
  {
   "cell_type": "code",
   "execution_count": 82,
   "metadata": {},
   "outputs": [
    {
     "name": "stdout",
     "output_type": "stream",
     "text": [
      "original_score: 0.41790617961638554\n",
      "opt_score: 0.45475244816683874\n"
     ]
    }
   ],
   "source": [
    "eval_scores, opt_eval_scores, optRs = blend_and_evaluate(bert_y_trues, [single_bert_y_preds,  roberta_y_preds, single_xlnet_y_preds], compute_spearmanr)"
   ]
  },
  {
   "cell_type": "code",
   "execution_count": 75,
   "metadata": {},
   "outputs": [],
   "source": [
    "with open('../mnt/datasets/sub_bert1_roberta2_gpt0_xlnet1/optRs.pkl', 'wb') as fout:\n",
    "    pickle.dump(optRs, fout)"
   ]
  },
  {
   "cell_type": "code",
   "execution_count": 84,
   "metadata": {},
   "outputs": [
    {
     "data": {
      "text/plain": [
       "'0.38753764855932404,0.624591236065633,0.41612521851465645,0.31631905154404777,0.36958084656834655,0.4333397143525736,0.35647225646179814,0.5053740180720495,0.6024717179943407,0.09343879770080012,0.48788970013367006,0.7554768784733894,0.37043040207462113,0.19175643232185877,0.3632398123928754,0.4644149810472098,0.7882689049397114,0.37508934129137833,0.6875082798335962,0.06859634383678749,0.5058311174919892,0.26776035706473816,0.42468236885314736,0.18264774434316508,0.1960057923938459,0.3571316272381341,0.7629198053679217,0.29516358912502183,0.6885185616941287,0.1986028427408061'"
      ]
     },
     "execution_count": 84,
     "metadata": {},
     "output_type": "execute_result"
    }
   ],
   "source": [
    "','.join([str(i) for i in eval_scores])"
   ]
  },
  {
   "cell_type": "code",
   "execution_count": 85,
   "metadata": {},
   "outputs": [
    {
     "data": {
      "text/plain": [
       "'0.38610697100222874,0.6220378810356756,0.4803108598080848,0.3087254707253665,0.3767010478726585,0.48153256901696284,0.3623044669561681,0.5109740248841105,0.6079582135843575,0.10998964284517494,0.4870548021086867,0.7644745305398798,0.5468575104750577,0.2850693099375624,0.6439619945737882,0.6181433940398664,0.7950887499733366,0.3480114972488913,0.6853066014210485,0.36239255378317503,0.503890831161848,0.26595541365451547,0.4260248516788567,0.18501720906281013,0.20022371905506964,0.3569060052051175,0.7579715572197582,0.27970705751496816,0.6821275873309829,0.20174712128915573'"
      ]
     },
     "execution_count": 85,
     "metadata": {},
     "output_type": "execute_result"
    }
   ],
   "source": [
    "','.join([str(i) for i in opt_eval_scores])"
   ]
  },
  {
   "cell_type": "code",
   "execution_count": null,
   "metadata": {},
   "outputs": [],
   "source": []
  },
  {
   "cell_type": "code",
   "execution_count": null,
   "metadata": {},
   "outputs": [],
   "source": []
  },
  {
   "cell_type": "markdown",
   "metadata": {},
   "source": [
    "#### weights どうすればよいか見てみる"
   ]
  },
  {
   "cell_type": "code",
   "execution_count": 86,
   "metadata": {},
   "outputs": [
    {
     "data": {
      "text/plain": [
       "array([0. , 0.1, 0.2, 0.3, 0.4, 0.5, 0.6, 0.7, 0.8, 0.9, 1. ])"
      ]
     },
     "execution_count": 86,
     "metadata": {},
     "output_type": "execute_result"
    }
   ],
   "source": [
    "np.arange(0, 1.1, 0.1)"
   ]
  },
  {
   "cell_type": "code",
   "execution_count": null,
   "metadata": {
    "scrolled": true
   },
   "outputs": [
    {
     "name": "stdout",
     "output_type": "stream",
     "text": [
      " ---------- [0.0, 0.0, 1.0] -----------\n",
      "original_score: 0.3906094115371919\n",
      "opt_score: 0.4208016538440192\n",
      " ---------- [0.0, 0.1, 0.9] -----------\n",
      "original_score: 0.39690428620399504\n",
      "opt_score: 0.42660201555875216\n",
      " ---------- [0.0, 0.2, 0.8] -----------\n",
      "original_score: 0.40194251860786706\n",
      "opt_score: 0.4322132022423592\n",
      " ---------- [0.0, 0.30000000000000004, 0.7] -----------\n",
      "original_score: 0.4058057699680523\n",
      "opt_score: 0.4386623102560342\n",
      " ---------- [0.0, 0.4, 0.6] -----------\n",
      "original_score: 0.40850785092762126\n",
      "opt_score: 0.44218874682162584\n",
      " ---------- [0.0, 0.5, 0.5] -----------\n",
      "original_score: 0.41002182412980964\n",
      "opt_score: 0.4462993778180665\n",
      " ---------- [0.0, 0.6000000000000001, 0.3999999999999999] -----------\n",
      "original_score: 0.41026148164290954\n",
      "opt_score: 0.4472571871083271\n",
      " ---------- [0.0, 0.7000000000000001, 0.29999999999999993] -----------\n",
      "original_score: 0.4092935254165069\n",
      "opt_score: 0.4447945948297066\n",
      " ---------- [0.0, 0.8, 0.19999999999999996] -----------\n",
      "original_score: 0.4071226109088475\n",
      "opt_score: 0.44149242039308084\n",
      " ---------- [0.0, 0.9, 0.09999999999999998] -----------\n",
      "original_score: 0.4038100851193089\n",
      "opt_score: 0.4330500811805364\n",
      " ---------- [0.0, 1.0, 0.0] -----------\n",
      "original_score: 0.3993632474521848\n",
      "opt_score: 0.4290080945752392\n",
      " ---------- [0.1, 0.0, 0.9] -----------\n",
      "original_score: 0.39748350266169086\n",
      "opt_score: 0.4278666400362752\n",
      " ---------- [0.1, 0.1, 0.8] -----------\n",
      "original_score: 0.40324422328305176\n",
      "opt_score: 0.43408235733977446\n",
      " ---------- [0.1, 0.2, 0.7] -----------\n",
      "original_score: 0.4077683731503216\n",
      "opt_score: 0.43985924191367703\n",
      " ---------- [0.1, 0.30000000000000004, 0.6] -----------\n",
      "original_score: 0.4110554098541271\n",
      "opt_score: 0.44571924822157144\n",
      " ---------- [0.1, 0.4, 0.5] -----------\n",
      "original_score: 0.4131122847697061\n",
      "opt_score: 0.44868417856967324\n",
      " ---------- [0.1, 0.5, 0.4] -----------\n",
      "original_score: 0.4139117959954773\n",
      "opt_score: 0.450836448053662\n",
      " ---------- [0.1, 0.6000000000000001, 0.29999999999999993] -----------\n",
      "original_score: 0.413395270452552\n",
      "opt_score: 0.4497050463053298\n",
      " ---------- [0.1, 0.7000000000000001, 0.19999999999999996] -----------\n",
      "original_score: 0.4116181121505084\n",
      "opt_score: 0.4462789998437101\n",
      " ---------- [0.1, 0.8, 0.09999999999999998] -----------\n",
      "original_score: 0.40862906927463\n",
      "opt_score: 0.44315935620316327\n",
      " ---------- [0.1, 0.9, 0.0] -----------\n",
      "original_score: 0.4044804588771627\n",
      "opt_score: 0.4362263243371759\n",
      " ---------- [0.2, 0.0, 0.8] -----------\n",
      "original_score: 0.4030366974521133\n",
      "opt_score: 0.43332398695302526\n",
      " ---------- [0.2, 0.1, 0.7000000000000001] -----------\n",
      "original_score: 0.4082787231491284\n",
      "opt_score: 0.4394319910296513\n",
      " ---------- [0.2, 0.2, 0.6000000000000001] -----------\n",
      "original_score: 0.4122109110881969\n",
      "opt_score: 0.4467392098399321\n",
      " ---------- [0.2, 0.30000000000000004, 0.5] -----------\n",
      "original_score: 0.41486633139147655\n",
      "opt_score: 0.4511441206137097\n",
      " ---------- [0.2, 0.4, 0.4] -----------\n",
      "original_score: 0.4162163909978839\n",
      "opt_score: 0.45290931090368997\n",
      " ---------- [0.2, 0.5, 0.30000000000000004] -----------\n",
      "original_score: 0.4162242549777085\n",
      "opt_score: 0.45359488933318587\n",
      " ---------- [0.2, 0.6000000000000001, 0.19999999999999996] -----------\n",
      "original_score: 0.4149152980855812\n",
      "opt_score: 0.45304611155297586\n",
      " ---------- [0.2, 0.7000000000000001, 0.09999999999999998] -----------\n",
      "original_score: 0.4123107893367252\n",
      "opt_score: 0.4487017499478999\n",
      " ---------- [0.2, 0.8, 0.0] -----------\n",
      "original_score: 0.40846967440242793\n",
      "opt_score: 0.4430624933010472\n",
      " ---------- [0.30000000000000004, 0.0, 0.7] -----------\n",
      "original_score: 0.40729131177785344\n",
      "opt_score: 0.43781598898807583\n",
      " ---------- [0.30000000000000004, 0.1, 0.6] -----------\n",
      "original_score: 0.41194610345258925\n",
      "opt_score: 0.4461902044741034\n",
      " ---------- [0.30000000000000004, 0.2, 0.49999999999999994] -----------\n",
      "original_score: 0.4152449230838212\n",
      "opt_score: 0.4519592787876502\n",
      " ---------- [0.30000000000000004, 0.30000000000000004, 0.3999999999999999] -----------\n",
      "original_score: 0.4172189774302776\n",
      "opt_score: 0.45423666296711723\n",
      " ---------- [0.30000000000000004, 0.4, 0.29999999999999993] -----------\n",
      "original_score: 0.4177729706186509\n",
      "opt_score: 0.4534216107676207\n",
      " ---------- [0.30000000000000004, 0.5, 0.19999999999999996] -----------\n",
      "original_score: 0.4169541413426909\n",
      "opt_score: 0.4543957032369945\n",
      " ---------- [0.30000000000000004, 0.6000000000000001, 0.09999999999999987] -----------\n",
      "original_score: 0.4148010859152908\n",
      "opt_score: 0.4521703479075567\n",
      " ---------- [0.30000000000000004, 0.7000000000000001, -1.1102230246251565e-16] -----------\n",
      "original_score: 0.4113583235898544\n",
      "opt_score: 0.44625908468641007\n",
      " ---------- [0.4, 0.0, 0.6] -----------\n",
      "original_score: 0.41024293713824805\n",
      "opt_score: 0.442146440184194\n",
      " ---------- [0.4, 0.1, 0.5] -----------\n",
      "original_score: 0.4142478153509121\n",
      "opt_score: 0.4508208993672268\n",
      " ---------- [0.4, 0.2, 0.39999999999999997] -----------\n",
      "original_score: 0.41683524620651463\n",
      "opt_score: 0.44941043775420686\n",
      " ---------- [0.4, 0.30000000000000004, 0.29999999999999993] -----------\n",
      "original_score: 0.41799402521860696\n",
      "opt_score: 0.4549965176019642\n",
      " ---------- [0.4, 0.4, 0.19999999999999996] -----------\n",
      "original_score: 0.4177245275454408\n",
      "opt_score: 0.4527574049369053\n",
      " ---------- [0.4, 0.5, 0.09999999999999998] -----------\n",
      "original_score: 0.41607965904827376\n",
      "opt_score: 0.4539256837571395\n",
      " ---------- [0.4, 0.6000000000000001, -1.1102230246251565e-16] -----------\n",
      "original_score: 0.4130773472592561\n",
      "opt_score: 0.4512276202282265\n",
      " ---------- [0.5, 0.0, 0.5] -----------\n",
      "original_score: 0.41178708653970275\n",
      "opt_score: 0.44625862345005013\n",
      " ---------- [0.5, 0.1, 0.4] -----------\n",
      "original_score: 0.41508343118676305\n",
      "opt_score: 0.4527472697598408\n",
      " ---------- [0.5, 0.2, 0.3] -----------\n",
      "original_score: 0.4168968461485762\n",
      "opt_score: 0.45433832056502726\n",
      " ---------- [0.5, 0.30000000000000004, 0.19999999999999996] -----------\n",
      "original_score: 0.41722587135431627\n",
      "opt_score: 0.4540723581631398\n",
      " ---------- [0.5, 0.4, 0.09999999999999998] -----------\n",
      "original_score: 0.4161164811776062\n",
      "opt_score: 0.4526043832023072\n",
      " ---------- [0.5, 0.5, 0.0] -----------\n",
      "original_score: 0.4136372457321521\n",
      "opt_score: 0.4499488935599467\n",
      " ---------- [0.6000000000000001, 0.0, 0.3999999999999999] -----------\n",
      "original_score: 0.4119465720848831\n",
      "opt_score: 0.4487213094503234\n",
      " ---------- [0.6000000000000001, 0.1, 0.29999999999999993] -----------\n",
      "original_score: 0.41446677245950425\n",
      "opt_score: 0.4539415925049916\n",
      " ---------- [0.6000000000000001, 0.2, 0.1999999999999999] -----------\n",
      "original_score: 0.4154510199019416\n",
      "opt_score: 0.4558315647586004\n",
      " ---------- [0.6000000000000001, 0.30000000000000004, 0.09999999999999987] -----------\n",
      "original_score: 0.41493973222905123\n",
      "opt_score: 0.4534664402776515\n",
      " ---------- [0.6000000000000001, 0.4, -1.1102230246251565e-16] -----------\n",
      "original_score: 0.41298153527800424\n",
      "opt_score: 0.4512534962697753\n",
      " ---------- [0.7000000000000001, 0.0, 0.29999999999999993] -----------\n",
      "original_score: 0.41064652405959495\n",
      "opt_score: 0.4455286801828367\n",
      " ---------- [0.7000000000000001, 0.1, 0.19999999999999993] -----------\n",
      "original_score: 0.41236191367437747\n",
      "opt_score: 0.44743471945616403\n",
      " ---------- [0.7000000000000001, 0.2, 0.09999999999999992] -----------\n",
      "original_score: 0.412524046500147\n",
      "opt_score: 0.4485020333392361\n",
      " ---------- [0.7000000000000001, 0.30000000000000004, -1.1102230246251565e-16] -----------\n",
      "original_score: 0.41114020970739623\n",
      "opt_score: 0.4469950925534136\n",
      " ---------- [0.8, 0.0, 0.19999999999999996] -----------\n",
      "original_score: 0.4078782823568148\n",
      "opt_score: 0.440673633457698\n",
      " ---------- [0.8, 0.1, 0.09999999999999995] -----------\n",
      "original_score: 0.40878247835358944\n",
      "opt_score: 0.4449156375870886\n",
      " ---------- [0.8, 0.2, -5.551115123125783e-17] -----------\n",
      "original_score: 0.40808151259046327\n",
      "opt_score: 0.4426910039391641\n",
      " ---------- [0.9, 0.0, 0.09999999999999998] -----------\n",
      "original_score: 0.40367067430056447\n",
      "opt_score: 0.4352878842897589\n",
      " ---------- [0.9, 0.1, -2.7755575615628914e-17] -----------\n"
     ]
    }
   ],
   "source": [
    "for i in np.arange(0, 1.1, 0.1):\n",
    "    for j in np.arange(0, 1.01- i, 0.1):\n",
    "        weights = [i, j, 1-i-j]\n",
    "        print(f' ---------- {weights} -----------')\n",
    "        eval_scores, opt_eval_scores, optRs = blend_and_evaluate(bert_y_trues,\n",
    "                                                                                                                 [single_bert_y_preds,  roberta_y_preds, single_xlnet_y_preds],\n",
    "                                                                                                                 compute_spearmanr,\n",
    "                                                                                                                 weights=weights)"
   ]
  },
  {
   "cell_type": "code",
   "execution_count": null,
   "metadata": {},
   "outputs": [],
   "source": []
  },
  {
   "cell_type": "code",
   "execution_count": null,
   "metadata": {},
   "outputs": [],
   "source": []
  },
  {
   "cell_type": "markdown",
   "metadata": {},
   "source": [
    "## まとめ\n",
    " - (ちょっと気に入らんけど) bert * 2, roberta * 2, xlnet * 1 の average が良さそう (* 1, * 1, * 1, * 1 よりも)\n",
    " - 多分もう一つ別の良いモデルを入れられれば伸びる"
   ]
  },
  {
   "cell_type": "code",
   "execution_count": null,
   "metadata": {},
   "outputs": [],
   "source": []
  },
  {
   "cell_type": "code",
   "execution_count": null,
   "metadata": {},
   "outputs": [],
   "source": []
  },
  {
   "cell_type": "code",
   "execution_count": null,
   "metadata": {},
   "outputs": [],
   "source": []
  }
 ],
 "metadata": {
  "kernelspec": {
   "display_name": "Python 3",
   "language": "python",
   "name": "python3"
  },
  "language_info": {
   "codemirror_mode": {
    "name": "ipython",
    "version": 3
   },
   "file_extension": ".py",
   "mimetype": "text/x-python",
   "name": "python",
   "nbconvert_exporter": "python",
   "pygments_lexer": "ipython3",
   "version": "3.6.6"
  },
  "toc": {
   "base_numbering": 1,
   "nav_menu": {},
   "number_sections": true,
   "sideBar": true,
   "skip_h1_title": false,
   "title_cell": "Table of Contents",
   "title_sidebar": "Contents",
   "toc_cell": false,
   "toc_position": {},
   "toc_section_display": true,
   "toc_window_display": false
  }
 },
 "nbformat": 4,
 "nbformat_minor": 2
}
