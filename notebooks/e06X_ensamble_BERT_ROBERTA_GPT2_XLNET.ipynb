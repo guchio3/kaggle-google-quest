{
 "cells": [
  {
   "cell_type": "code",
   "execution_count": 4,
   "metadata": {},
   "outputs": [],
   "source": [
    "import os\n",
    "import sys\n",
    "import itertools\n",
    "import pickle\n",
    "from glob import glob\n",
    "from tqdm import tqdm_notebook as tqdm\n",
    "\n",
    "import numpy as np\n",
    "import pandas as pd\n",
    "from scipy.stats import spearmanr\n",
    "\n",
    "from matplotlib import pyplot as plt\n",
    "from matplotlib_venn import venn2, venn3\n",
    "import seaborn as sns\n",
    "\n",
    "import torch\n",
    "from torch import nn, optim\n",
    "from transformers import BertConfig, BertTokenizer, BertModel, BertForMaskedLM#, BertLayer, BertEmbeddings\n",
    "from transformers.modeling_bert import BertLayer, BertEmbeddings"
   ]
  },
  {
   "cell_type": "code",
   "execution_count": 2,
   "metadata": {},
   "outputs": [
    {
     "data": {
      "text/html": [
       "<style>.container { width:90% !important; }</style>"
      ],
      "text/plain": [
       "<IPython.core.display.HTML object>"
      ]
     },
     "metadata": {},
     "output_type": "display_data"
    }
   ],
   "source": [
    "pd.set_option('display.max_columns', 500)\n",
    "pd.set_option('display.max_rows', 500)\n",
    "\n",
    "# re-load functions\n",
    "%load_ext autoreload\n",
    "%autoreload 2\n",
    "\n",
    "from IPython.core.display import display, HTML\n",
    "display(HTML(\"<style>.container { width:90% !important; }</style>\"))\n",
    "%config InlineBackend.figure_formats = {'png', 'retina'}"
   ]
  },
  {
   "cell_type": "code",
   "execution_count": 3,
   "metadata": {},
   "outputs": [],
   "source": [
    "DEVICE = 'cpu'"
   ]
  },
  {
   "cell_type": "code",
   "execution_count": 37,
   "metadata": {},
   "outputs": [],
   "source": [
    "import sys\n",
    "import pickle\n",
    "from functools import partial\n",
    "from glob import glob\n",
    "\n",
    "import numpy as np\n",
    "import pandas as pd\n",
    "import scipy as sp\n",
    "import torch\n",
    "from scipy.stats import spearmanr\n",
    "from tqdm import tqdm\n",
    "\n",
    "class OptimizedRounder(object):\n",
    "    \"\"\"\n",
    "    An optimizer for rounding thresholds\n",
    "    to maximize Quadratic Weighted Kappa (QWK) score\n",
    "    # https://www.kaggle.com/naveenasaithambi/optimizedrounder-improved\n",
    "    \"\"\"\n",
    "\n",
    "    def __init__(self):\n",
    "        self.coef_ = 0\n",
    "\n",
    "    def _spearmanr_loss(self, coef, X, y, labels):\n",
    "        \"\"\"\n",
    "        Get loss according to\n",
    "        using current coefficients\n",
    "        :param coef: A list of coefficients that will be used for rounding\n",
    "        :param X: The raw predictions\n",
    "        :param y: The ground truth labels\n",
    "        \"\"\"\n",
    "        X_p = pd.cut(X, [-np.inf] + list(np.sort(coef)) +\n",
    "                     [np.inf], labels=labels)\n",
    "\n",
    "        # return -np.mean(spearmanr(y, X_p).correlation)\n",
    "        return -spearmanr(y, X_p).correlation\n",
    "\n",
    "    def fit(self, X, y, initial_coef):\n",
    "        \"\"\"\n",
    "        Optimize rounding thresholds\n",
    "        :param X: The raw predictions\n",
    "        :param y: The ground truth labels\n",
    "        \"\"\"\n",
    "        labels = self.labels\n",
    "        loss_partial = partial(self._spearmanr_loss, X=X, y=y, labels=labels)\n",
    "        self.coef_ = sp.optimize.minimize(\n",
    "            # loss_partial, initial_coef, method='Powell')\n",
    "            loss_partial, initial_coef, method='nelder-mead')\n",
    "\n",
    "    def predict(self, X, coef):\n",
    "        \"\"\"\n",
    "        Make predictions with specified thresholds\n",
    "        :param X: The raw predictions\n",
    "        :param coef: A list of coefficients that will be used for rounding\n",
    "        \"\"\"\n",
    "        labels = self.labels\n",
    "        return pd.cut(X, [-np.inf] + list(np.sort(coef)) +\n",
    "                      [np.inf], labels=labels)\n",
    "        # [np.inf], labels=[0, 1, 2, 3])\n",
    "\n",
    "    def coefficients(self):\n",
    "        \"\"\"\n",
    "        Return the optimized coefficients\n",
    "        \"\"\"\n",
    "        return self.coef_['x']\n",
    "\n",
    "    def set_labels(self, labels):\n",
    "        self.labels = labels"
   ]
  },
  {
   "cell_type": "code",
   "execution_count": 45,
   "metadata": {},
   "outputs": [],
   "source": [
    "sys.path.append('../scripts/')\n",
    "from get_optR3 import compute_spearmanr, get_opt_y_pred"
   ]
  },
  {
   "cell_type": "code",
   "execution_count": 39,
   "metadata": {},
   "outputs": [],
   "source": [
    "class histogramBasedCoefInitializer:\n",
    "    def __init__(self):\n",
    "        self.bins = None\n",
    "\n",
    "    def fit(self, labels):\n",
    "        self.bins = pd.Series(labels).value_counts().sort_index().cumsum().values\n",
    "        return self\n",
    "\n",
    "    def predict(self, preds):\n",
    "        preds = sorted(preds)\n",
    "        res_threshs = []\n",
    "        if self.bins is None:\n",
    "            raise Exception('plz fit at first.')\n",
    "        for _bin in self.bins[:-1]:\n",
    "            res_threshs.append((preds[_bin - 1] + preds[_bin]) / 2)\n",
    "        return res_threshs"
   ]
  },
  {
   "cell_type": "code",
   "execution_count": null,
   "metadata": {},
   "outputs": [],
   "source": []
  },
  {
   "cell_type": "markdown",
   "metadata": {},
   "source": [
    "## snapshot 済みの model を load"
   ]
  },
  {
   "cell_type": "code",
   "execution_count": 6,
   "metadata": {},
   "outputs": [],
   "source": [
    "CKPT_DIR = '../mnt/checkpoints'\n",
    "\n",
    "with open(f'{CKPT_DIR}/e059/snapshot_dicts.pkl', 'rb') as fin:\n",
    "    bert_question_dict = pickle.load(fin)\n",
    "with open(f'{CKPT_DIR}/e060/snapshot_dicts.pkl', 'rb') as fin:\n",
    "    bert_answer_dict = pickle.load(fin)\n",
    "    \n",
    "with open(f'{CKPT_DIR}/e068/snapshot_dicts.pkl', 'rb') as fin:\n",
    "    roberta_question_dict = pickle.load(fin)\n",
    "with open(f'{CKPT_DIR}/e070/snapshot_dicts.pkl', 'rb') as fin:\n",
    "    roberta_answer_dict = pickle.load(fin)\n",
    "    \n",
    "with open(f'{CKPT_DIR}/e072/snapshot_dicts.pkl', 'rb') as fin:\n",
    "    gpt2_question_dict = pickle.load(fin)\n",
    "with open(f'{CKPT_DIR}/e073/snapshot_dicts.pkl', 'rb') as fin:\n",
    "    gpt2_answer_dict = pickle.load(fin)\n",
    "    \n",
    "with open(f'{CKPT_DIR}/e074/snapshot_dicts.pkl', 'rb') as fin:\n",
    "    xlnet_question_dict = pickle.load(fin)\n",
    "with open(f'{CKPT_DIR}/e075/snapshot_dicts.pkl', 'rb') as fin:\n",
    "    xlnet_answer_dict = pickle.load(fin)"
   ]
  },
  {
   "cell_type": "code",
   "execution_count": 8,
   "metadata": {},
   "outputs": [
    {
     "data": {
      "text/plain": [
       "dict_keys([0, 1, 2, 3, 4])"
      ]
     },
     "execution_count": 8,
     "metadata": {},
     "output_type": "execute_result"
    }
   ],
   "source": [
    "bert_question_dict.keys()"
   ]
  },
  {
   "cell_type": "code",
   "execution_count": 10,
   "metadata": {},
   "outputs": [
    {
     "data": {
      "text/plain": [
       "dict_keys(['y_trues', 'y_preds'])"
      ]
     },
     "execution_count": 10,
     "metadata": {},
     "output_type": "execute_result"
    }
   ],
   "source": [
    "bert_question_dict[0].keys()"
   ]
  },
  {
   "cell_type": "code",
   "execution_count": 11,
   "metadata": {},
   "outputs": [
    {
     "data": {
      "text/plain": [
       "dict_keys([0, 1, 2, 3, 4])"
      ]
     },
     "execution_count": 11,
     "metadata": {},
     "output_type": "execute_result"
    }
   ],
   "source": [
    "xlnet_answer_dict.keys()"
   ]
  },
  {
   "cell_type": "code",
   "execution_count": 33,
   "metadata": {},
   "outputs": [],
   "source": [
    "def _get_y_trues_and_y_preds_from_snapshot_dicts(snapshot_dicts, single):\n",
    "    y_trues, y_preds = [], []\n",
    "    for fold in range(5):\n",
    "        if single:\n",
    "            y_trues.append(snapshot_dicts[fold]['y_trues'][0])\n",
    "            y_preds.append(snapshot_dicts[fold]['y_preds'][0])\n",
    "        else:\n",
    "            y_trues.append(np.average(snapshot_dicts[fold]['y_trues'], axis=0))\n",
    "            y_preds.append(np.average(snapshot_dicts[fold]['y_preds'], axis=0))\n",
    "    y_trues = np.concatenate(y_trues)\n",
    "    y_preds = np.concatenate(y_preds)\n",
    "    return y_trues, y_preds\n",
    "\n",
    "def get_y_trues_and_y_preds_from_QA_snapshota_dicts(Q_snapshot_dicts, A_snapshot_dicts, single=False):\n",
    "    q_y_trues, q_y_preds = _get_y_trues_and_y_preds_from_snapshot_dicts(Q_snapshot_dicts, single)\n",
    "    a_y_trues, a_y_preds = _get_y_trues_and_y_preds_from_snapshot_dicts(A_snapshot_dicts, single)\n",
    "    y_trues = np.concatenate([q_y_trues, a_y_trues], axis=1)\n",
    "    y_preds = np.concatenate([q_y_preds, a_y_preds], axis=1)\n",
    "    return y_trues, y_preds"
   ]
  },
  {
   "cell_type": "code",
   "execution_count": 34,
   "metadata": {
    "scrolled": true
   },
   "outputs": [],
   "source": [
    "# %debug\n",
    "bert_y_trues, bert_y_preds = get_y_trues_and_y_preds_from_QA_snapshota_dicts(bert_question_dict, bert_answer_dict)\n",
    "roberta_y_trues, roberta_y_preds = get_y_trues_and_y_preds_from_QA_snapshota_dicts(roberta_question_dict, roberta_answer_dict)\n",
    "gpt2_y_trues, gpt2_y_preds = get_y_trues_and_y_preds_from_QA_snapshota_dicts(gpt2_question_dict, gpt2_answer_dict)\n",
    "xlnet_y_trues, xlnet_y_preds = get_y_trues_and_y_preds_from_QA_snapshota_dicts(xlnet_question_dict, xlnet_answer_dict)"
   ]
  },
  {
   "cell_type": "code",
   "execution_count": 35,
   "metadata": {
    "scrolled": true
   },
   "outputs": [],
   "source": [
    "# %debug\n",
    "single_bert_y_trues, single_bert_y_preds = get_y_trues_and_y_preds_from_QA_snapshota_dicts(bert_question_dict, bert_answer_dict, single=True)\n",
    "single_roberta_y_trues, single_roberta_y_preds = get_y_trues_and_y_preds_from_QA_snapshota_dicts(roberta_question_dict, roberta_answer_dict, single=True)\n",
    "single_gpt2_y_trues, single_gpt2_y_preds = get_y_trues_and_y_preds_from_QA_snapshota_dicts(gpt2_question_dict, gpt2_answer_dict, single=True)\n",
    "single_xlnet_y_trues, single_xlnet_y_preds = get_y_trues_and_y_preds_from_QA_snapshota_dicts(xlnet_question_dict, xlnet_answer_dict, single=True)"
   ]
  },
  {
   "cell_type": "code",
   "execution_count": 31,
   "metadata": {},
   "outputs": [
    {
     "data": {
      "text/plain": [
       "(True, True, True)"
      ]
     },
     "execution_count": 31,
     "metadata": {},
     "output_type": "execute_result"
    }
   ],
   "source": [
    "# 良さそう\n",
    "(bert_y_trues == roberta_y_trues).all(), (bert_y_trues == gpt2_y_trues).all(), (bert_y_trues == xlnet_y_trues).all()"
   ]
  },
  {
   "cell_type": "code",
   "execution_count": 32,
   "metadata": {},
   "outputs": [
    {
     "data": {
      "text/plain": [
       "(False, False, False)"
      ]
     },
     "execution_count": 32,
     "metadata": {},
     "output_type": "execute_result"
    }
   ],
   "source": [
    "(bert_y_preds == roberta_y_preds).all(), (bert_y_preds == gpt2_y_preds).all(), (bert_y_preds == xlnet_y_preds).all()"
   ]
  },
  {
   "cell_type": "code",
   "execution_count": null,
   "metadata": {},
   "outputs": [],
   "source": []
  },
  {
   "cell_type": "markdown",
   "metadata": {},
   "source": [
    "## 混ぜてみる\n",
    " - 4 つ全て混ぜてみる\n",
    " - 3/4 の　snapshot 混ぜてみる？"
   ]
  },
  {
   "cell_type": "code",
   "execution_count": 65,
   "metadata": {},
   "outputs": [],
   "source": [
    "def blend_and_evaluate(y_trues, y_preds_list, eval_func, weights=None):\n",
    "    if weights:\n",
    "        y_preds = np.average(y_preds_list, axis=0, weights=weights)\n",
    "    else:\n",
    "        y_preds = np.average(y_preds_list, axis=0)\n",
    "    eval_scores = eval_func(y_trues, y_preds)\n",
    "    optRs, opt_y_preds = get_opt_y_pred(y_trues, y_preds, num_labels=30)\n",
    "    opt_eval_scores = eval_func(y_trues, opt_y_preds)\n",
    "    print(f'original_score: {np.mean(eval_scores)}')\n",
    "    print(f'opt_score: {np.mean(opt_eval_scores)}')\n",
    "    return eval_scores, opt_eval_scores, optRs"
   ]
  },
  {
   "cell_type": "markdown",
   "metadata": {},
   "source": [
    "#### 試しに single, top-2 snapshots を見てみる"
   ]
  },
  {
   "cell_type": "code",
   "execution_count": 54,
   "metadata": {},
   "outputs": [
    {
     "name": "stdout",
     "output_type": "stream",
     "text": [
      "original_score: 0.39787353711376366\n",
      "opt_score: 0.4261143948591801\n",
      "original_score: 0.3917349489436032\n",
      "opt_score: 0.4159272241610885\n",
      "original_score: 0.38234367637291916\n",
      "opt_score: 0.4048386132780595\n",
      "original_score: 0.3906094115371919\n",
      "opt_score: 0.4208016538440192\n",
      "fini!\n"
     ]
    }
   ],
   "source": [
    "blend_and_evaluate(single_bert_y_trues, [single_bert_y_preds,  ], compute_spearmanr)\n",
    "blend_and_evaluate(single_bert_y_trues, [single_roberta_y_preds, ], compute_spearmanr)\n",
    "blend_and_evaluate(single_bert_y_trues, [single_gpt2_y_preds, ], compute_spearmanr)\n",
    "blend_and_evaluate(single_bert_y_trues, [single_xlnet_y_preds], compute_spearmanr)\n",
    "print('fini!')"
   ]
  },
  {
   "cell_type": "code",
   "execution_count": 55,
   "metadata": {
    "scrolled": true
   },
   "outputs": [
    {
     "name": "stdout",
     "output_type": "stream",
     "text": [
      "original_score: 0.40377496605021973\n",
      "opt_score: 0.44007917576260047\n",
      "original_score: 0.3993632474521848\n",
      "opt_score: 0.4290080945752392\n"
     ]
    },
    {
     "name": "stderr",
     "output_type": "stream",
     "text": [
      "/opt/conda/lib/python3.6/site-packages/numpy/lib/function_base.py:2525: RuntimeWarning: invalid value encountered in true_divide\n",
      "  c /= stddev[:, None]\n",
      "/opt/conda/lib/python3.6/site-packages/numpy/lib/function_base.py:2526: RuntimeWarning: invalid value encountered in true_divide\n",
      "  c /= stddev[None, :]\n",
      "/opt/conda/lib/python3.6/site-packages/scipy/stats/_distn_infrastructure.py:903: RuntimeWarning: invalid value encountered in greater\n",
      "  return (a < x) & (x < b)\n",
      "/opt/conda/lib/python3.6/site-packages/scipy/stats/_distn_infrastructure.py:903: RuntimeWarning: invalid value encountered in less\n",
      "  return (a < x) & (x < b)\n",
      "/opt/conda/lib/python3.6/site-packages/scipy/stats/_distn_infrastructure.py:1912: RuntimeWarning: invalid value encountered in less_equal\n",
      "  cond2 = cond0 & (x <= _a)\n"
     ]
    },
    {
     "name": "stdout",
     "output_type": "stream",
     "text": [
      "original_score: 0.3854747911354585\n",
      "opt_score: 0.4121866682795468\n",
      "original_score: 0.3977770316464774\n",
      "opt_score: 0.42765094537546605\n",
      "fini!\n"
     ]
    }
   ],
   "source": [
    "blend_and_evaluate(single_bert_y_trues, [bert_y_preds,  ], compute_spearmanr)\n",
    "blend_and_evaluate(single_bert_y_trues, [roberta_y_preds, ], compute_spearmanr)\n",
    "blend_and_evaluate(single_bert_y_trues, [gpt2_y_preds, ], compute_spearmanr)\n",
    "blend_and_evaluate(single_bert_y_trues, [xlnet_y_preds], compute_spearmanr)\n",
    "print('fini!')"
   ]
  },
  {
   "cell_type": "markdown",
   "metadata": {},
   "source": [
    "#### all blends がどうなるかを見てみる"
   ]
  },
  {
   "cell_type": "code",
   "execution_count": 53,
   "metadata": {},
   "outputs": [
    {
     "name": "stdout",
     "output_type": "stream",
     "text": [
      "original_score: 0.4180430600394728\n",
      "opt_score: 0.45011560307585413\n"
     ]
    }
   ],
   "source": [
    "eval_scores, opt_eval_scores = blend_and_evaluate(single_bert_y_trues, [single_bert_y_preds,  single_roberta_y_preds, single_gpt2_y_preds, single_xlnet_y_preds], compute_spearmanr)"
   ]
  },
  {
   "cell_type": "code",
   "execution_count": null,
   "metadata": {},
   "outputs": [],
   "source": []
  },
  {
   "cell_type": "markdown",
   "metadata": {},
   "source": [
    "#### 組み合わせがどうなるかを見てみる"
   ]
  },
  {
   "cell_type": "code",
   "execution_count": 56,
   "metadata": {},
   "outputs": [
    {
     "name": "stdout",
     "output_type": "stream",
     "text": [
      "original_score: 0.4123991396964391\n",
      "opt_score: 0.44228018730704144\n",
      "original_score: 0.41487735800374637\n",
      "opt_score: 0.44704608097446064\n",
      "original_score: 0.4165326987734412\n",
      "opt_score: 0.4536773141844584\n",
      "original_score: 0.4142418328259677\n",
      "opt_score: 0.44462524506286166\n",
      "fini!\n"
     ]
    }
   ],
   "source": [
    "blend_and_evaluate(single_bert_y_trues, [ single_roberta_y_preds, single_gpt2_y_preds, single_xlnet_y_preds], compute_spearmanr)\n",
    "blend_and_evaluate(single_bert_y_trues, [single_bert_y_preds, single_gpt2_y_preds, single_xlnet_y_preds], compute_spearmanr)\n",
    "blend_and_evaluate(single_bert_y_trues, [single_bert_y_preds,  single_roberta_y_preds, single_xlnet_y_preds], compute_spearmanr)\n",
    "blend_and_evaluate(single_bert_y_trues, [single_bert_y_preds,  single_roberta_y_preds, single_gpt2_y_preds], compute_spearmanr)\n",
    "print('fini!')"
   ]
  },
  {
   "cell_type": "code",
   "execution_count": 58,
   "metadata": {},
   "outputs": [
    {
     "name": "stdout",
     "output_type": "stream",
     "text": [
      "original_score: 0.41494955942931444\n",
      "opt_score: 0.4396218163436752\n",
      "original_score: 0.41725360795561056\n",
      "opt_score: 0.45043969072616535\n",
      "original_score: 0.41943000297059607\n",
      "opt_score: 0.455408513948017\n",
      "original_score: 0.4165551766237184\n",
      "opt_score: 0.44958809940315647\n",
      "fini!\n"
     ]
    }
   ],
   "source": [
    "blend_and_evaluate(bert_y_trues, [ roberta_y_preds, gpt2_y_preds, xlnet_y_preds], compute_spearmanr)\n",
    "blend_and_evaluate(bert_y_trues, [bert_y_preds, gpt2_y_preds, xlnet_y_preds], compute_spearmanr)\n",
    "blend_and_evaluate(bert_y_trues, [bert_y_preds,  roberta_y_preds, xlnet_y_preds], compute_spearmanr)\n",
    "blend_and_evaluate(bert_y_trues, [bert_y_preds,  roberta_y_preds, gpt2_y_preds], compute_spearmanr)\n",
    "print('fini!')"
   ]
  },
  {
   "cell_type": "markdown",
   "metadata": {},
   "source": [
    "#### 一番良さそうな gpt2 抜きの場合にどれを single にするとよいか見てみる"
   ]
  },
  {
   "cell_type": "code",
   "execution_count": 59,
   "metadata": {},
   "outputs": [
    {
     "name": "stdout",
     "output_type": "stream",
     "text": [
      "original_score: 0.4186640931608012\n",
      "opt_score: 0.45243258027214034\n",
      "original_score: 0.4186459442933615\n",
      "opt_score: 0.4563528045631384\n",
      "original_score: 0.41862052031267105\n",
      "opt_score: 0.4571952857338109\n",
      "fini!\n"
     ]
    }
   ],
   "source": [
    "blend_and_evaluate(bert_y_trues, [single_bert_y_preds,  roberta_y_preds, xlnet_y_preds], compute_spearmanr)\n",
    "blend_and_evaluate(bert_y_trues, [bert_y_preds,  single_roberta_y_preds, xlnet_y_preds], compute_spearmanr)\n",
    "blend_and_evaluate(bert_y_trues, [bert_y_preds,  roberta_y_preds, single_xlnet_y_preds], compute_spearmanr)\n",
    "print('fini!')"
   ]
  },
  {
   "cell_type": "code",
   "execution_count": null,
   "metadata": {},
   "outputs": [],
   "source": []
  },
  {
   "cell_type": "markdown",
   "metadata": {},
   "source": [
    "## 2, 2, 1 じゃ disk 足りなかった..."
   ]
  },
  {
   "cell_type": "code",
   "execution_count": 64,
   "metadata": {},
   "outputs": [
    {
     "name": "stdout",
     "output_type": "stream",
     "text": [
      "original_score: 0.41766799758567713\n",
      "opt_score: 0.4527705536288453\n",
      "original_score: 0.41742998990308045\n",
      "opt_score: 0.4525666155163446\n",
      "original_score: 0.41790617961638554\n",
      "opt_score: 0.45475244816683874\n",
      "fini!\n"
     ]
    }
   ],
   "source": [
    "blend_and_evaluate(bert_y_trues, [single_bert_y_preds,  single_roberta_y_preds, xlnet_y_preds], compute_spearmanr)\n",
    "blend_and_evaluate(bert_y_trues, [bert_y_preds,  single_roberta_y_preds, single_xlnet_y_preds], compute_spearmanr)\n",
    "blend_and_evaluate(bert_y_trues, [single_bert_y_preds,  roberta_y_preds, single_xlnet_y_preds], compute_spearmanr)\n",
    "print('fini!')"
   ]
  },
  {
   "cell_type": "code",
   "execution_count": null,
   "metadata": {},
   "outputs": [],
   "source": []
  },
  {
   "cell_type": "markdown",
   "metadata": {},
   "source": [
    "#### いったん 1, 2, 0, 1 で行くことにするので optR を取得"
   ]
  },
  {
   "cell_type": "code",
   "execution_count": 66,
   "metadata": {},
   "outputs": [
    {
     "name": "stdout",
     "output_type": "stream",
     "text": [
      "original_score: 0.41790617961638554\n",
      "opt_score: 0.45475244816683874\n"
     ]
    }
   ],
   "source": [
    "eval_scores, opt_eval_scores, optRs = blend_and_evaluate(bert_y_trues, [single_bert_y_preds,  roberta_y_preds, single_xlnet_y_preds], compute_spearmanr)"
   ]
  },
  {
   "cell_type": "code",
   "execution_count": 68,
   "metadata": {},
   "outputs": [],
   "source": [
    "with open('../mnt/datasets/sub_bert1_roberta2_gpt0_xlnet1/optRs.pkl', 'wb') as fout:\n",
    "    pickle.dump(optRs, fout)"
   ]
  },
  {
   "cell_type": "code",
   "execution_count": null,
   "metadata": {},
   "outputs": [],
   "source": []
  },
  {
   "cell_type": "code",
   "execution_count": null,
   "metadata": {},
   "outputs": [],
   "source": []
  },
  {
   "cell_type": "code",
   "execution_count": null,
   "metadata": {},
   "outputs": [],
   "source": []
  },
  {
   "cell_type": "code",
   "execution_count": null,
   "metadata": {},
   "outputs": [],
   "source": []
  },
  {
   "cell_type": "code",
   "execution_count": null,
   "metadata": {},
   "outputs": [],
   "source": []
  },
  {
   "cell_type": "code",
   "execution_count": null,
   "metadata": {},
   "outputs": [],
   "source": []
  },
  {
   "cell_type": "markdown",
   "metadata": {},
   "source": [
    "#### weights どうすればよいか見てみる"
   ]
  },
  {
   "cell_type": "code",
   "execution_count": 59,
   "metadata": {},
   "outputs": [
    {
     "name": "stdout",
     "output_type": "stream",
     "text": [
      "original_score: 0.4186640931608012\n",
      "opt_score: 0.45243258027214034\n",
      "original_score: 0.4186459442933615\n",
      "opt_score: 0.4563528045631384\n",
      "original_score: 0.41862052031267105\n",
      "opt_score: 0.4571952857338109\n",
      "fini!\n"
     ]
    }
   ],
   "source": [
    "blend_and_evaluate(bert_y_trues, [single_bert_y_preds,  roberta_y_preds, xlnet_y_preds], compute_spearmanr)\n",
    "blend_and_evaluate(bert_y_trues, [bert_y_preds,  single_roberta_y_preds, xlnet_y_preds], compute_spearmanr)\n",
    "blend_and_evaluate(bert_y_trues, [bert_y_preds,  roberta_y_preds, single_xlnet_y_preds], compute_spearmanr)\n",
    "print('fini!')"
   ]
  },
  {
   "cell_type": "code",
   "execution_count": null,
   "metadata": {},
   "outputs": [],
   "source": []
  },
  {
   "cell_type": "markdown",
   "metadata": {},
   "source": [
    "## まとめ\n",
    " - (ちょっと気に入らんけど) bert * 2, roberta * 2, xlnet * 1 の average が良さそう (* 1, * 1, * 1, * 1 よりも)\n",
    " - 多分もう一つ別の良いモデルを入れられれば伸びる"
   ]
  },
  {
   "cell_type": "code",
   "execution_count": null,
   "metadata": {},
   "outputs": [],
   "source": []
  },
  {
   "cell_type": "code",
   "execution_count": null,
   "metadata": {},
   "outputs": [],
   "source": []
  }
 ],
 "metadata": {
  "kernelspec": {
   "display_name": "Python 3",
   "language": "python",
   "name": "python3"
  },
  "language_info": {
   "codemirror_mode": {
    "name": "ipython",
    "version": 3
   },
   "file_extension": ".py",
   "mimetype": "text/x-python",
   "name": "python",
   "nbconvert_exporter": "python",
   "pygments_lexer": "ipython3",
   "version": "3.6.6"
  },
  "toc": {
   "base_numbering": 1,
   "nav_menu": {},
   "number_sections": true,
   "sideBar": true,
   "skip_h1_title": false,
   "title_cell": "Table of Contents",
   "title_sidebar": "Contents",
   "toc_cell": false,
   "toc_position": {},
   "toc_section_display": true,
   "toc_window_display": false
  }
 },
 "nbformat": 4,
 "nbformat_minor": 2
}
